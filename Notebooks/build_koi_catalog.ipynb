{
 "cells": [
  {
   "cell_type": "code",
   "execution_count": 1,
   "id": "1b3f0074",
   "metadata": {},
   "outputs": [
    {
     "name": "stderr",
     "output_type": "stream",
     "text": [
      "WARNING (theano.link.c.cmodule): install mkl with `conda install mkl-service`: No module named 'mkl'\n"
     ]
    }
   ],
   "source": [
    "import os\n",
    "import sys\n",
    "import warnings\n",
    "\n",
    "PROJECT_DIR = '/Users/research/projects/kepler-ecc-rp/'\n",
    "sys.path.append(PROJECT_DIR)\n",
    "\n",
    "from datetime import datetime\n",
    "today = datetime.today().strftime(\"%Y-%m-%d\")\n",
    "\n",
    "import astropy.constants as apc\n",
    "import matplotlib.pyplot as plt\n",
    "import numpy as np\n",
    "import pandas as pd\n",
    "from utils.astro import calc_T14_circ, calc_sma\n",
    "from utils.io import load_dr25_data_from_hdf5\n",
    "\n",
    "pi = np.pi\n",
    "\n",
    "RSAU = (apc.R_sun/apc.au).value                                 # solar radius [AU]\n",
    "RSRE = (apc.R_sun/apc.R_earth).value                            # R_sun/R_earth\n",
    "RHOSUN_GCM3 = (3*apc.M_sun/(4*pi*apc.R_sun**3)).value/1000      # solar density [g/cm^3]"
   ]
  },
  {
   "cell_type": "code",
   "execution_count": 2,
   "id": "4a5efa0f",
   "metadata": {},
   "outputs": [],
   "source": [
    "DATA_DIR = '/Users/research/data/DR25_chains/'\n",
    "\n",
    "DR25_KOIS    = os.path.join(PROJECT_DIR, 'Catalogs/kepler_q1_q17_thompson.csv')\n",
    "BERGER_IN    = os.path.join(PROJECT_DIR, 'Catalogs/berger_2020_gaia_kepler_tab1_input.txt')\n",
    "BERGER_OUT   = os.path.join(PROJECT_DIR, 'Catalogs/berger_2020_gaia_kepler_tab2_output.txt')\n",
    "JZ_DETWEIGHT = os.path.join(PROJECT_DIR, 'Catalogs/zink_kepler_detection_weights.csv')\n",
    "MORTON_2016  = os.path.join(PROJECT_DIR, 'Catalogs/morton_2016_kepler_fpp.txt')\n",
    "FURLAN_2017  = os.path.join(PROJECT_DIR, 'Catalogs/furlan_2017_kepler_radius_correction_factors.txt')\n",
    "\n",
    "DR25_CHAINS  = os.path.join(DATA_DIR, 'dr25-chains_trimmed-thinned.hdf')"
   ]
  },
  {
   "cell_type": "markdown",
   "id": "f3935470",
   "metadata": {},
   "source": [
    "## Read in DR25 catalog"
   ]
  },
  {
   "cell_type": "code",
   "execution_count": 3,
   "id": "4104c711",
   "metadata": {},
   "outputs": [
    {
     "name": "stdout",
     "output_type": "stream",
     "text": [
      "4078 planets | 3087 stars\n"
     ]
    }
   ],
   "source": [
    "# read in DR25\n",
    "dr25 = pd.read_csv(DR25_KOIS, skiprows=53)\n",
    "\n",
    "# remove false positives\n",
    "fp = np.array(dr25.koi_disposition == 'FALSE POSITIVE', dtype='bool')\n",
    "fp += np.array((dr25.koi_disposition != 'CONFIRMED') &\n",
    "               (dr25.koi_pdisposition == 'FALSE POSITIVE')\n",
    "              )\n",
    "\n",
    "dr25 = dr25[~fp]\n",
    "dr25 = dr25.reset_index()\n",
    "\n",
    "print('{0} planets | {1} stars'.format(len(dr25), len(np.unique(dr25.kepid))))"
   ]
  },
  {
   "cell_type": "code",
   "execution_count": 4,
   "id": "be92a8f1-2183-42a3-b47a-d60fe07f4ed8",
   "metadata": {},
   "outputs": [],
   "source": [
    "# count up number of planets in each system\n",
    "sy_pnum = []\n",
    "for i, kepid in enumerate(dr25.kepid):\n",
    "    use = np.array(dr25.kepid == kepid, dtype='bool')\n",
    "    sy_pnum.append(np.sum(use))\n",
    "dr25['sy_pnum'] = np.array(sy_pnum)"
   ]
  },
  {
   "cell_type": "markdown",
   "id": "c09f3115-fd46-40ef-bd6f-b3d23c3f8d23",
   "metadata": {},
   "source": [
    "## Read in Jon Zink's detection weights"
   ]
  },
  {
   "cell_type": "code",
   "execution_count": 5,
   "id": "3a951c19-c768-4937-a322-79abf755a7d7",
   "metadata": {},
   "outputs": [],
   "source": [
    "# read in DR25\n",
    "jz_weight = pd.read_csv(JZ_DETWEIGHT, index_col=0)\n",
    "\n",
    "dr25['detprob'] = np.ones(len(dr25), dtype='float')*np.nan\n",
    "\n",
    "for i, koi in enumerate(dr25.kepoi_name):\n",
    "    if koi is not np.nan:\n",
    "        use = jz_weight.ID == float(koi[1:])\n",
    "\n",
    "        if np.sum(use) == 1:\n",
    "            dr25.loc[dr25.kepoi_name == koi, 'detprob'] = jz_weight.loc[use, 'DetectProb'].iloc[0]"
   ]
  },
  {
   "cell_type": "markdown",
   "id": "f1415b50",
   "metadata": {},
   "source": [
    "## Read in Berger+ 2020 (Kepler-Gaia DR2)"
   ]
  },
  {
   "cell_type": "code",
   "execution_count": 6,
   "id": "6f30f4fb-1714-45a4-a0c2-46becee7251b",
   "metadata": {},
   "outputs": [],
   "source": [
    "# read in stellar input parameters\n",
    "with open(BERGER_IN, \"r\") as infile:\n",
    "    raw_gaia_data = []\n",
    "    \n",
    "    for i, line in enumerate(infile):\n",
    "        raw_gaia_data.append(line.split(\"&\"))\n",
    "            \n",
    "raw_gaia_data = np.array(raw_gaia_data)\n",
    "\n",
    "# strip off trailing \\newline commands\n",
    "for i in range(len(raw_gaia_data)):\n",
    "    raw_gaia_data[i,-1] = raw_gaia_data[i,-1].strip(\"\\n\").strip(\"\\ \")\n",
    "    \n",
    "raw_gaia_in = pd.DataFrame()\n",
    "\n",
    "for i, k in enumerate(raw_gaia_data[0]):\n",
    "    raw_gaia_in[k] = raw_gaia_data[1:,i]"
   ]
  },
  {
   "cell_type": "code",
   "execution_count": 7,
   "id": "c70e5bcf",
   "metadata": {},
   "outputs": [],
   "source": [
    "# read in stellar output parameters\n",
    "with open(BERGER_OUT, \"r\") as infile:\n",
    "    raw_gaia_data = []\n",
    "    \n",
    "    for i, line in enumerate(infile):\n",
    "        raw_gaia_data.append(line.split(\"&\"))\n",
    "            \n",
    "raw_gaia_data = np.array(raw_gaia_data)\n",
    "\n",
    "# strip off trailing \\newline commands\n",
    "for i in range(len(raw_gaia_data)):\n",
    "    raw_gaia_data[i,-1] = raw_gaia_data[i,-1].strip(\"\\n\").strip(\"\\ \")\n",
    "    \n",
    "raw_gaia_out = pd.DataFrame()\n",
    "\n",
    "for i, k in enumerate(raw_gaia_data[0]):\n",
    "    raw_gaia_out[k] = raw_gaia_data[1:,i]"
   ]
  },
  {
   "cell_type": "code",
   "execution_count": 8,
   "id": "42168293-a852-47ab-877f-23b7636cbd14",
   "metadata": {},
   "outputs": [],
   "source": [
    "raw_gaia = raw_gaia_out.merge(raw_gaia_in, on='KIC')"
   ]
  },
  {
   "cell_type": "code",
   "execution_count": 9,
   "id": "dcd77f95",
   "metadata": {},
   "outputs": [],
   "source": [
    "gaia = pd.DataFrame()\n",
    "\n",
    "gaia['kic']          = np.array(raw_gaia['KIC'], dtype='int')\n",
    "\n",
    "gaia['gmag']         = np.array(raw_gaia['gmag'], dtype='float')\n",
    "gaia['gmag_err']     = np.array(raw_gaia['gmag_err'], dtype='float')\n",
    "gaia['kmag']         = np.array(raw_gaia['kmag'], dtype='float')\n",
    "gaia['kmag_err']     = np.array(raw_gaia['kmag_err'], dtype='float')\n",
    "\n",
    "gaia['parallax']     = np.array(raw_gaia['parallax'], dtype='float')\n",
    "gaia['parallax_err'] = np.array(raw_gaia['parallax_err'], dtype='float')\n",
    "gaia['RUWE']         = np.array(raw_gaia['RUWE'], dtype='float')\n",
    "\n",
    "gaia['mstar']        = np.array(raw_gaia['iso_mass'], dtype='float')\n",
    "gaia['mstar_err1']   = np.array(raw_gaia['iso_mass_err1'], dtype='float')\n",
    "gaia['mstar_err2']   = np.array(raw_gaia['iso_mass_err2'], dtype='float')\n",
    "\n",
    "gaia['rstar']        = np.array(raw_gaia['iso_rad'], dtype='float')\n",
    "gaia['rstar_err1']   = np.array(raw_gaia['iso_rad_err1'], dtype='float')\n",
    "gaia['rstar_err2']   = np.array(raw_gaia['iso_rad_err2'], dtype='float')\n",
    "\n",
    "# Berger+2020 actually reports logrho -- this will be fixed later\n",
    "gaia['rhostar']      = np.array(raw_gaia['iso_rho'], dtype='float')\n",
    "gaia['rhostar_err1'] = np.array(raw_gaia['iso_rho_err1'], dtype='float')\n",
    "gaia['rhostar_err2'] = np.array(raw_gaia['iso_rho_err2'], dtype='float')\n",
    "\n",
    "gaia['teff']         = np.array(raw_gaia['iso_teff'], dtype='float')\n",
    "gaia['teff_err1']    = np.array(raw_gaia['iso_teff_err1'], dtype='float')\n",
    "gaia['teff_err2']    = np.array(raw_gaia['iso_teff_err2'], dtype='float')\n",
    "\n",
    "gaia['feh']          = np.array(raw_gaia['iso_feh'], dtype='float')\n",
    "gaia['feh_err1']     = np.array(raw_gaia['iso_feh_err1'], dtype='float')\n",
    "gaia['feh_err2']     = np.array(raw_gaia['iso_feh_err2'], dtype='float')\n",
    "\n",
    "gaia['logg']         = np.array(raw_gaia['iso_logg'], dtype='float')\n",
    "gaia['logg_err1']    = np.array(raw_gaia['iso_logg_err1'], dtype='float')\n",
    "gaia['logg_err2']    = np.array(raw_gaia['iso_logg_err2'], dtype='float')\n",
    "\n",
    "gaia['age']          = np.array(raw_gaia['iso_age'], dtype='float')\n",
    "gaia['age_err1']     = np.array(raw_gaia['iso_age_err1'], dtype='float')\n",
    "gaia['age_err2']     = np.array(raw_gaia['iso_age_err2'], dtype='float')\n",
    "gaia['age_flag']     = np.array(raw_gaia['unReAgeFlag'], dtype='str')\n",
    "\n",
    "# sanitize age_flag\n",
    "age_flag = np.array(gaia.age_flag)\n",
    "age_flag[age_flag == ''] = 0\n",
    "age_flag[age_flag == '*'] = 1\n",
    "\n",
    "gaia.age_flag = np.array(age_flag, dtype='int')\n",
    "\n",
    "# Berger+2020 uses log(rho) +/- log(sigma_rho) instead of sigma_logrho\n",
    "gaia.rhostar = np.round(10**gaia.rhostar, 3)\n",
    "gaia.rhostar_err1 = np.round(10**gaia.rhostar_err1, 3)\n",
    "gaia.rhostar_err2 = np.round(-10**gaia.rhostar_err2, 3)"
   ]
  },
  {
   "cell_type": "markdown",
   "id": "631fd1c0",
   "metadata": {},
   "source": [
    "## Cross-match Kepler DR25 vs Gaia DR2"
   ]
  },
  {
   "cell_type": "code",
   "execution_count": 10,
   "id": "e9986fac",
   "metadata": {},
   "outputs": [],
   "source": [
    "kic_dr25 = np.array(dr25.kepid, dtype='int')\n",
    "kic_gaia = np.array(gaia.kic, dtype='int')\n",
    "\n",
    "use = np.isin(kic_dr25, kic_gaia) * ~np.isnan(dr25.detprob)\n",
    "index = np.arange(len(use),dtype='int')[use]\n",
    "\n",
    "gk_match = pd.DataFrame(dr25, index=index)\n",
    "Nobj = len(gk_match)"
   ]
  },
  {
   "cell_type": "markdown",
   "id": "23a67759-c86b-45f1-b619-b247e79a7ce4",
   "metadata": {},
   "source": [
    "#### System parameters"
   ]
  },
  {
   "cell_type": "code",
   "execution_count": 11,
   "id": "011906de",
   "metadata": {},
   "outputs": [],
   "source": [
    "my_catalog = pd.DataFrame()\n",
    "\n",
    "# system parameters\n",
    "my_catalog['planet_name'] = np.array(gk_match.kepoi_name, dtype='str')\n",
    "my_catalog['disposition'] = np.array(gk_match.koi_disposition, dtype='str')\n",
    "my_catalog['kic_id'] = np.array(gk_match.kepid, dtype='int')\n",
    "\n",
    "koi_id = []\n",
    "for i, pname in enumerate(my_catalog.planet_name):\n",
    "    koi_id.append(pname[:6])    \n",
    "my_catalog['koi_id'] = np.array(koi_id)\n",
    "\n",
    "my_catalog['kep_mag'] = gk_match.koi_kepmag"
   ]
  },
  {
   "cell_type": "markdown",
   "id": "621caa9e-948a-4dbf-aa50-6225fe572955",
   "metadata": {},
   "source": [
    "#### Stellar parameters"
   ]
  },
  {
   "cell_type": "code",
   "execution_count": 12,
   "id": "55443d76-db7e-4462-bb5a-b8625d243aa5",
   "metadata": {},
   "outputs": [],
   "source": [
    "star_keys = list(gaia.keys())\n",
    "star_keys.remove('kic')"
   ]
  },
  {
   "cell_type": "code",
   "execution_count": 13,
   "id": "bf6b1f3f-18fb-4c3c-adf4-1f263934c8a8",
   "metadata": {},
   "outputs": [],
   "source": [
    "# stellar parameters from Gaia DR2\n",
    "star_keys = list(gaia.keys())\n",
    "star_keys.remove('kic')\n",
    "\n",
    "for i, key in enumerate(star_keys):\n",
    "    val = []\n",
    "    \n",
    "    for j, kic in enumerate(my_catalog.kic_id):\n",
    "        use = np.array(gaia.kic == kic, dtype='bool')\n",
    "        if np.sum(use) == 1:\n",
    "            val.append(float(gaia.loc[use,key].iloc[0]))\n",
    "        else:\n",
    "            val.append(np.nan)\n",
    "            \n",
    "    my_catalog[key] = np.array(val)"
   ]
  },
  {
   "cell_type": "code",
   "execution_count": 14,
   "id": "c85e3175-2f55-48c0-ad5b-18b0b557de0a",
   "metadata": {},
   "outputs": [],
   "source": [
    "# ensure consistency\n",
    "kic_ids = np.unique(my_catalog.kic_id)\n",
    "\n",
    "for i, kic in enumerate(kic_ids):\n",
    "    use = np.array(my_catalog.kic_id == kic, dtype='bool')\n",
    "    \n",
    "    for key in star_keys:        \n",
    "        my_catalog.loc[use,key] = np.nanmedian(my_catalog.loc[use,key])\n",
    "\n",
    "my_catalog.age_flag = np.array(my_catalog.age_flag, dtype='int')"
   ]
  },
  {
   "cell_type": "markdown",
   "id": "d83ffecd-b8e5-446e-a4a4-bb28168b0794",
   "metadata": {},
   "source": [
    "#### Transit parameters"
   ]
  },
  {
   "cell_type": "code",
   "execution_count": 15,
   "id": "187918ae",
   "metadata": {},
   "outputs": [],
   "source": [
    "# transit parameters from Kepler DR25 (many of these will be overwritten from chains)\n",
    "my_catalog['npl'] = np.array(gk_match.sy_pnum, dtype='int')\n",
    "my_catalog['snr'] = gk_match.koi_model_snr\n",
    "my_catalog['rcf'] = np.zeros_like(my_catalog.snr)\n",
    "my_catalog['detprob'] = gk_match.detprob\n",
    "\n",
    "my_catalog['period'] = gk_match.koi_period\n",
    "my_catalog['period_err1'] = gk_match.koi_period_err1\n",
    "my_catalog['period_err2'] = gk_match.koi_period_err2\n",
    "\n",
    "my_catalog['epoch'] = gk_match.koi_time0bk\n",
    "my_catalog['epoch_err1'] = gk_match.koi_time0bk_err1\n",
    "my_catalog['epoch_err2'] = gk_match.koi_time0bk_err2\n",
    "\n",
    "my_catalog['ror'] = np.zeros_like(gk_match.koi_depth)\n",
    "my_catalog['ror_err1'] = np.zeros_like(gk_match.koi_depth_err1)\n",
    "my_catalog['ror_err2'] = np.zeros_like(gk_match.koi_depth_err2)\n",
    "\n",
    "my_catalog['duration'] = gk_match.koi_duration\n",
    "my_catalog['duration_err1'] = gk_match.koi_duration_err1\n",
    "my_catalog['duration_err2'] = gk_match.koi_duration_err2\n",
    "\n",
    "my_catalog['impact'] = gk_match.koi_impact\n",
    "my_catalog['impact_err1'] = gk_match.koi_impact_err1\n",
    "my_catalog['impact_err2'] = gk_match.koi_impact_err2\n",
    "\n",
    "# reset dataframe indexes\n",
    "my_catalog.reset_index(inplace=True, drop=True)"
   ]
  },
  {
   "cell_type": "code",
   "execution_count": 16,
   "id": "e5b5c178-db93-401c-9d9c-15597602fe86",
   "metadata": {},
   "outputs": [
    {
     "data": {
      "text/plain": [
       "(3742, 2800)"
      ]
     },
     "execution_count": 16,
     "metadata": {},
     "output_type": "execute_result"
    }
   ],
   "source": [
    "len(my_catalog), len(np.unique(my_catalog.kic_id))"
   ]
  },
  {
   "cell_type": "markdown",
   "id": "9d48a5bc-bf24-4880-8ed4-10e7a610544b",
   "metadata": {},
   "source": [
    "## Update transit parameter values using DR25 posterior chains"
   ]
  },
  {
   "cell_type": "code",
   "execution_count": 17,
   "id": "944b5980-4155-438c-8e50-b0f60cbac20d",
   "metadata": {},
   "outputs": [
    {
     "name": "stderr",
     "output_type": "stream",
     "text": [
      "/var/folders/f5/94803ccd3kl1b6yw01k2zj0m0000gn/T/ipykernel_44097/2023249899.py:23: UserWarning: K00126.02 failed to load\n",
      "  warnings.warn(\"{0} failed to load\".format(t))\n",
      "/var/folders/f5/94803ccd3kl1b6yw01k2zj0m0000gn/T/ipykernel_44097/2023249899.py:23: UserWarning: K00952.05 failed to load\n",
      "  warnings.warn(\"{0} failed to load\".format(t))\n",
      "/var/folders/f5/94803ccd3kl1b6yw01k2zj0m0000gn/T/ipykernel_44097/2023249899.py:23: UserWarning: K00971.01 failed to load\n",
      "  warnings.warn(\"{0} failed to load\".format(t))\n",
      "/var/folders/f5/94803ccd3kl1b6yw01k2zj0m0000gn/T/ipykernel_44097/2023249899.py:23: UserWarning: K01803.01 failed to load\n",
      "  warnings.warn(\"{0} failed to load\".format(t))\n",
      "/var/folders/f5/94803ccd3kl1b6yw01k2zj0m0000gn/T/ipykernel_44097/2023249899.py:23: UserWarning: K01831.03 failed to load\n",
      "  warnings.warn(\"{0} failed to load\".format(t))\n",
      "/var/folders/f5/94803ccd3kl1b6yw01k2zj0m0000gn/T/ipykernel_44097/2023249899.py:23: UserWarning: K03184.01 failed to load\n",
      "  warnings.warn(\"{0} failed to load\".format(t))\n",
      "/var/folders/f5/94803ccd3kl1b6yw01k2zj0m0000gn/T/ipykernel_44097/2023249899.py:23: UserWarning: K05482.01 failed to load\n",
      "  warnings.warn(\"{0} failed to load\".format(t))\n",
      "/var/folders/f5/94803ccd3kl1b6yw01k2zj0m0000gn/T/ipykernel_44097/2023249899.py:23: UserWarning: K05600.01 failed to load\n",
      "  warnings.warn(\"{0} failed to load\".format(t))\n",
      "/var/folders/f5/94803ccd3kl1b6yw01k2zj0m0000gn/T/ipykernel_44097/2023249899.py:23: UserWarning: K06746.01 failed to load\n",
      "  warnings.warn(\"{0} failed to load\".format(t))\n",
      "/var/folders/f5/94803ccd3kl1b6yw01k2zj0m0000gn/T/ipykernel_44097/2023249899.py:23: UserWarning: K07706.01 failed to load\n",
      "  warnings.warn(\"{0} failed to load\".format(t))\n",
      "/opt/homebrew/anaconda3/envs/kepler-ecc-rp/lib/python3.10/site-packages/pandas/core/arraylike.py:396: RuntimeWarning: invalid value encountered in arcsin\n",
      "  result = getattr(ufunc, method)(*inputs, **kwargs)\n",
      "/var/folders/f5/94803ccd3kl1b6yw01k2zj0m0000gn/T/ipykernel_44097/2023249899.py:23: UserWarning: K08007.01 failed to load\n",
      "  warnings.warn(\"{0} failed to load\".format(t))\n",
      "/var/folders/f5/94803ccd3kl1b6yw01k2zj0m0000gn/T/ipykernel_44097/2023249899.py:23: UserWarning: K08012.01 failed to load\n",
      "  warnings.warn(\"{0} failed to load\".format(t))\n",
      "/var/folders/f5/94803ccd3kl1b6yw01k2zj0m0000gn/T/ipykernel_44097/2023249899.py:23: UserWarning: K08122.01 failed to load\n",
      "  warnings.warn(\"{0} failed to load\".format(t))\n"
     ]
    }
   ],
   "source": [
    "targets = np.array(my_catalog.planet_name)\n",
    "failure = []\n",
    "\n",
    "catalog_keys = 'period epoch ror duration impact'.split()\n",
    "samples_keys = 'PERIOD EPOCH ROR DUR14 IMPACT'.split()\n",
    "\n",
    "# load posterior chains\n",
    "for i, t in enumerate(targets):\n",
    "    use = my_catalog.planet_name == t\n",
    "    \n",
    "    try:\n",
    "        samples = pd.DataFrame(load_dr25_data_from_hdf5(DR25_CHAINS, t))\n",
    "        samples['DUR14'] = calc_T14_circ(samples.PERIOD, samples.ROR, samples.IMPACT, samples.RHOTILDE)\n",
    "    \n",
    "        for j, ck in enumerate(catalog_keys):\n",
    "            sk = samples_keys[j]\n",
    "    \n",
    "            my_catalog.loc[use, ck] = np.median(samples[sk])\n",
    "            my_catalog.loc[use, ck+'_err1'] = np.percentile(samples[sk], 84) - my_catalog.loc[use, ck]\n",
    "            my_catalog.loc[use, ck+'_err2'] = np.percentile(samples[sk], 16) - my_catalog.loc[use, ck]\n",
    "            \n",
    "    except:\n",
    "        warnings.warn(\"{0} failed to load\".format(t))\n",
    "        failure.append(t)\n",
    "\n",
    "\n",
    "# remove failed objects from catalog\n",
    "my_catalog = my_catalog[~np.isin(my_catalog.planet_name, failure)]\n",
    "my_catalog = my_catalog.reset_index(drop=True)\n",
    "targets = np.array(my_catalog.planet_name)"
   ]
  },
  {
   "cell_type": "markdown",
   "id": "85b4a251-8536-4855-9f7a-b7e2ff7f8e02",
   "metadata": {},
   "source": [
    "## Add trackers for flux contamination and false positives"
   ]
  },
  {
   "cell_type": "markdown",
   "id": "e1ae5ab2-9a65-45fa-881f-fbbe5019f968",
   "metadata": {},
   "source": [
    "#### Furlan+ 2017 radius correction factors"
   ]
  },
  {
   "cell_type": "code",
   "execution_count": 18,
   "id": "98d13868-5789-4c52-a97b-198a6ecde1b2",
   "metadata": {},
   "outputs": [],
   "source": [
    "furlan_rcfs = pd.DataFrame(np.loadtxt(FURLAN_2017, usecols=[0,17], skiprows=37), columns=['koi_id', 'rcf'])\n",
    "\n",
    "kois = []\n",
    "for i, koi in enumerate(furlan_rcfs.koi_id):\n",
    "    kois.append(\"K\"+str(int(koi)).zfill(5))\n",
    "furlan_rcfs.koi_id = kois\n",
    "\n",
    "rcf = []\n",
    "for i, t in enumerate(targets):\n",
    "    use = furlan_rcfs.koi_id == t[:-3]\n",
    "\n",
    "    if np.sum(use) != 1:\n",
    "        rcf.append(np.nan)\n",
    "    else:\n",
    "        rcf.append(float(furlan_rcfs.loc[use, 'rcf'].values))\n",
    "\n",
    "my_catalog['rcf'] = np.array(rcf)"
   ]
  },
  {
   "cell_type": "markdown",
   "id": "1e29bce3-21ac-44aa-9d5a-c514fa48e503",
   "metadata": {},
   "source": [
    "#### Gaia RUWE"
   ]
  },
  {
   "cell_type": "code",
   "execution_count": 19,
   "id": "d4bd628a-2136-4bdc-80cc-b179b4953389",
   "metadata": {},
   "outputs": [],
   "source": [
    "my_catalog = my_catalog.rename(columns={\"RUWE\":\"ruwe\"})"
   ]
  },
  {
   "cell_type": "markdown",
   "id": "faa6929c-c57a-4a3f-b142-acdebb90601c",
   "metadata": {},
   "source": [
    "#### Morton+ 2016 FPP"
   ]
  },
  {
   "cell_type": "code",
   "execution_count": 38,
   "id": "cc10c07c-3bcb-4f77-bd9b-2cc6c036ee6e",
   "metadata": {},
   "outputs": [],
   "source": [
    "morton_fpp = pd.read_csv(MORTON_2016, skiprows=15, delimiter=' ', names='planet_name disposition fpp fpp_err'.split())\n",
    "\n",
    "planet_name = []\n",
    "for i, koi in enumerate(morton_fpp.planet_name):\n",
    "    planet_name.append('K'+str(koi).zfill(8))\n",
    "morton_fpp['planet_name'] = planet_name\n",
    "\n",
    "fpp = []\n",
    "for i, t in enumerate(targets):\n",
    "    use = morton_fpp.planet_name == t\n",
    "\n",
    "    if np.sum(use) != 1:\n",
    "        fpp.append(np.nan)\n",
    "    else:\n",
    "        fpp.append(float(morton_fpp.loc[use, 'fpp'].values))\n",
    "\n",
    "my_catalog['fpp'] = np.array(fpp)"
   ]
  },
  {
   "cell_type": "markdown",
   "id": "d74f0116-5835-41f7-a85b-50e1805d0609",
   "metadata": {},
   "source": [
    "## Calcultate self-consistent physical parameters"
   ]
  },
  {
   "cell_type": "markdown",
   "id": "910d1ec5-b7ea-47ca-a347-767639500cc7",
   "metadata": {},
   "source": [
    "#### Self-consistent planet radii"
   ]
  },
  {
   "cell_type": "code",
   "execution_count": 44,
   "id": "3d28eb55-bfe9-4e5e-8ac9-3dd8984c405b",
   "metadata": {},
   "outputs": [
    {
     "name": "stderr",
     "output_type": "stream",
     "text": [
      "/opt/homebrew/anaconda3/envs/kepler-ecc-rp/lib/python3.10/site-packages/pandas/core/arraylike.py:396: RuntimeWarning: invalid value encountered in log\n",
      "  result = getattr(ufunc, method)(*inputs, **kwargs)\n"
     ]
    }
   ],
   "source": [
    "# calculate self-consistent planet radii\n",
    "ror = my_catalog.ror\n",
    "ror_err = np.sqrt(my_catalog.ror_err1**2 + my_catalog.ror_err2**2)/np.sqrt(2)\n",
    "\n",
    "Rstar = my_catalog.rstar\n",
    "Rstar_err = np.sqrt(my_catalog.rstar_err1**2 + my_catalog.rstar_err2**2)/np.sqrt(2)\n",
    "\n",
    "# radius gap location from Petigura+2022; R = R0*(P/10)^y, R0 = 1.84 +/- 0.03, y = 0.11 +/- 0.02\n",
    "my_catalog['rgap'] = np.array(1.84*(my_catalog.period/10)**-0.11)\n",
    "my_catalog['rgap_err'] = my_catalog.rgap * np.sqrt( 0.02**2*np.log(my_catalog.period/10)**2 + (0.03/1.84)**2)\n",
    "\n",
    "# physical planet radius\n",
    "my_catalog['rp'] = np.array(ror*Rstar*RSRE)\n",
    "my_catalog['rp_err'] = np.array(my_catalog.rp * np.sqrt((ror_err/ror)**2 + (Rstar_err/Rstar)**2))\n",
    "\n",
    "# radius corrected to P=10 days (see Ho & Van Eylen 2023); equivalent to using diagonal bins\n",
    "my_catalog['rp10'] = np.exp(np.log(my_catalog.rp) - np.log(my_catalog.rgap) + np.log(1.84))\n",
    "my_catalog['rp10_err'] = np.sqrt(my_catalog.rp_err**2 + my_catalog.rgap_err**2)\n",
    "\n",
    "# radius adjusted for super-Earths and sub-Neptunes only\n",
    "rp = my_catalog.rp\n",
    "rgap = my_catalog.rgap\n",
    "rp_adj = np.array(rp)\n",
    "\n",
    "rp_lower_lim = 1.0\n",
    "rp_gap10_loc = 1.84\n",
    "rp_giant_lim = 4.0\n",
    "\n",
    "SE = (rp >= rp_lower_lim)*(rp < rgap)\n",
    "SN = (rp >= rgap)*(rp < rp_giant_lim)\n",
    "GP = (rp >= rp_giant_lim)\n",
    "\n",
    "rp_adj[SE] = ((rp - rp_lower_lim)/(rgap - rp_lower_lim) * (rp_gap10_loc - rp_lower_lim) + rp_lower_lim)[SE]\n",
    "rp_adj[SN] = ((rp - rgap)/(rp_giant_lim - rgap) * (rp_giant_lim - rp_gap10_loc) + rp_gap10_loc)[SN]\n",
    "rp_adj[GP] = rp[GP]\n",
    "\n",
    "rp_adj_err = np.copy(my_catalog['rp_err'])\n",
    "rp_adj_err[SE+SN] = np.array(my_catalog['rp10_err'])[SE+SN]\n",
    "\n",
    "my_catalog['rpadj'] = rp_adj\n",
    "my_catalog['rpadj_err'] = rp_adj_err"
   ]
  },
  {
   "cell_type": "markdown",
   "id": "53ac2259-73ec-475e-bc78-ca58be54e955",
   "metadata": {},
   "source": [
    "#### Semi-major axis"
   ]
  },
  {
   "cell_type": "code",
   "execution_count": 45,
   "id": "d89ba6f7-0427-489b-89be-f6490e14aaa6",
   "metadata": {},
   "outputs": [],
   "source": [
    "my_catalog['sma'] = calc_sma(my_catalog.period, my_catalog.mstar) * RSAU\n",
    "my_catalog['sma_err1'] = np.sqrt(1./3) * my_catalog.sma * my_catalog.mstar_err1/my_catalog.mstar * RSAU\n",
    "my_catalog['sma_err2'] = np.sqrt(1./3) * my_catalog.sma * my_catalog.mstar_err2/my_catalog.mstar * RSAU"
   ]
  },
  {
   "cell_type": "markdown",
   "id": "ee1ae187",
   "metadata": {},
   "source": [
    "## Save catalog"
   ]
  },
  {
   "cell_type": "code",
   "execution_count": 46,
   "id": "261a969e",
   "metadata": {},
   "outputs": [],
   "source": [
    "my_catalog.to_csv(os.path.join(PROJECT_DIR, 'Catalogs/kepler_dr25_gaia_dr2_crossmatch.csv'))"
   ]
  },
  {
   "cell_type": "code",
   "execution_count": null,
   "id": "1c05f880-c8ad-4ce3-ba24-c2f57a055bc5",
   "metadata": {},
   "outputs": [],
   "source": []
  }
 ],
 "metadata": {
  "kernelspec": {
   "display_name": "Python 3 (ipykernel)",
   "language": "python",
   "name": "python3"
  },
  "language_info": {
   "codemirror_mode": {
    "name": "ipython",
    "version": 3
   },
   "file_extension": ".py",
   "mimetype": "text/x-python",
   "name": "python",
   "nbconvert_exporter": "python",
   "pygments_lexer": "ipython3",
   "version": "3.9.19"
  }
 },
 "nbformat": 4,
 "nbformat_minor": 5
}
