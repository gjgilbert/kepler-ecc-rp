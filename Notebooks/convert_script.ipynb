{
 "cells": [
  {
   "cell_type": "code",
   "execution_count": 1,
   "id": "4cf68cf7",
   "metadata": {},
   "outputs": [],
   "source": [
    "import os\n",
    "import sys\n",
    "\n",
    "PROJECT_DIR = '/Users/research/projects/kepler-ecc-rp/'\n",
    "SCRIPT_NAME = 'infer_hbayes_ecc'"
   ]
  },
  {
   "cell_type": "code",
   "execution_count": 2,
   "id": "8366e464",
   "metadata": {},
   "outputs": [
    {
     "name": "stderr",
     "output_type": "stream",
     "text": [
      "[NbConvertApp] Converting notebook /Users/research/projects/kepler-ecc-rp/Notebooks/infer_hbayes_ecc.ipynb to script\n",
      "[NbConvertApp] Writing 33597 bytes to /Users/research/projects/kepler-ecc-rp/bin/infer_hbayes_ecc.py\n"
     ]
    },
    {
     "data": {
      "text/plain": [
       "0"
      ]
     },
     "execution_count": 2,
     "metadata": {},
     "output_type": "execute_result"
    }
   ],
   "source": [
    "nbfile = os.path.join(PROJECT_DIR, 'Notebooks', '{0}.ipynb'.format(SCRIPT_NAME))\n",
    "outdir = os.path.join(PROJECT_DIR, 'bin')\n",
    "\n",
    "os.system(\"jupyter nbconvert {0} --to script --output-dir {1}\".format(nbfile, outdir))"
   ]
  },
  {
   "cell_type": "markdown",
   "id": "8004dd71",
   "metadata": {},
   "source": [
    "## Remove notebook cell makers"
   ]
  },
  {
   "cell_type": "code",
   "execution_count": 3,
   "id": "35a62d7a",
   "metadata": {},
   "outputs": [],
   "source": [
    "pyfile = os.path.join(outdir, '{0}.py'.format(SCRIPT_NAME))\n",
    "\n",
    "with open(pyfile, 'r') as f:\n",
    "    lines = f.readlines()\n",
    "    \n",
    "with open(pyfile, 'w') as f:\n",
    "    for line in lines:\n",
    "        if line.strip('\\n') != '# In[ ]:':\n",
    "            f.write(line)"
   ]
  },
  {
   "cell_type": "markdown",
   "id": "bcaa056b",
   "metadata": {},
   "source": [
    "## Remove manual development inputs"
   ]
  },
  {
   "cell_type": "code",
   "execution_count": 4,
   "id": "e46c1ebb",
   "metadata": {},
   "outputs": [],
   "source": [
    "ignore = False\n",
    "\n",
    "with open(pyfile, 'r') as f:\n",
    "    lines = f.readlines()\n",
    "\n",
    "with open(pyfile, 'w') as f:\n",
    "    for line in lines:\n",
    "        if line.strip('\\n') == '# MANUAL DEVELOPMENT INPUTS START':\n",
    "            ignore = True\n",
    "        if ignore == False:\n",
    "            f.write(line)\n",
    "        if line.strip('\\n') == '# MANUAL DEVELOPMENT INPUTS END':\n",
    "            ignore = False"
   ]
  },
  {
   "cell_type": "markdown",
   "id": "11b3c8d0",
   "metadata": {},
   "source": [
    "## Remove extraneous empty lines"
   ]
  },
  {
   "cell_type": "code",
   "execution_count": 5,
   "id": "0bdda9ea",
   "metadata": {},
   "outputs": [],
   "source": [
    "counter = 0\n",
    "\n",
    "with open(pyfile, 'r') as f:\n",
    "    lines = f.readlines()\n",
    "\n",
    "with open(pyfile, 'w') as f:\n",
    "    for line in lines:\n",
    "        if line != '\\n':\n",
    "            f.write(line)\n",
    "            counter = 0\n",
    "        if (line == '\\n') & (counter < 2):\n",
    "            f.write(line)\n",
    "            counter += 1"
   ]
  },
  {
   "cell_type": "markdown",
   "id": "8b50c3d5",
   "metadata": {},
   "source": [
    "## Wrap main script in `if __name__ == '__main__'`"
   ]
  },
  {
   "cell_type": "code",
   "execution_count": 6,
   "id": "aa8df248",
   "metadata": {},
   "outputs": [],
   "source": [
    "indent = False\n",
    "\n",
    "with open(pyfile, 'r') as f:\n",
    "    lines = f.readlines()\n",
    "\n",
    "with open(pyfile, 'w') as f:\n",
    "    for line in lines:\n",
    "        if indent == False:\n",
    "            f.write(line)\n",
    "        else:\n",
    "            f.write(\"    \"+line)\n",
    "            \n",
    "        if line.strip(\"\\n\") == '# MAIN SCRIPT BEGINS HERE':\n",
    "            f.write(\"def main():\")\n",
    "            indent = True\n",
    "            \n",
    "    f.write(\"if __name__ == '__main__':\\n\")\n",
    "    f.write(\"    main()\")"
   ]
  },
  {
   "cell_type": "code",
   "execution_count": null,
   "id": "4ddf0bfd",
   "metadata": {},
   "outputs": [],
   "source": []
  },
  {
   "cell_type": "code",
   "execution_count": null,
   "id": "90ad0024",
   "metadata": {},
   "outputs": [],
   "source": []
  }
 ],
 "metadata": {
  "kernelspec": {
   "display_name": "Python 3 (ipykernel)",
   "language": "python",
   "name": "python3"
  },
  "language_info": {
   "codemirror_mode": {
    "name": "ipython",
    "version": 3
   },
   "file_extension": ".py",
   "mimetype": "text/x-python",
   "name": "python",
   "nbconvert_exporter": "python",
   "pygments_lexer": "ipython3",
   "version": "3.9.19"
  }
 },
 "nbformat": 4,
 "nbformat_minor": 5
}
