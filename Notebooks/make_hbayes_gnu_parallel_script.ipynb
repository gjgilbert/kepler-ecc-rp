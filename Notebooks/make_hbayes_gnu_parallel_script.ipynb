{
 "cells": [
  {
   "cell_type": "code",
   "execution_count": 1,
   "id": "0fac3eb7-101e-4618-9ee9-8b48e18e91c2",
   "metadata": {},
   "outputs": [],
   "source": [
    "LABEL        = 'alderaan-all-LC-metallicity'\n",
    "DISTRIBUTION = 'empirical'\n",
    "MULTIPLICITY = (1,99)\n",
    "RAD_TYPE = 'rpadj'\n",
    "RAD_GRID = [4.0, 8.0, 16.0]\n",
    "RAD_FWHM = None\n",
    "\n",
    "VAR1 = 'feh'\n",
    "VAR2 = 'rstar'\n",
    "GRID = {}\n",
    "GRID[VAR1] = [-0.4, 0.0, 0.4]\n",
    "GRID[VAR2] = [0.7, 1.4]\n",
    "\n",
    "DATA_DIR = '/data/user/gjgilbert/projects/alderaan/Results/ecc-all-LC-final/'\n",
    "DATA_SOURCE = 'ALDERAAN'"
   ]
  },
  {
   "cell_type": "code",
   "execution_count": 2,
   "id": "dfecacdc",
   "metadata": {},
   "outputs": [],
   "source": [
    "import numpy as np\n",
    "\n",
    "if RAD_FWHM is None:\n",
    "    RAD_GRID = np.array([RAD_GRID[:-1],RAD_GRID[1:]]).T\n",
    "    \n",
    "else:\n",
    "    RAD_GRID = np.array([RAD_GRID,RAD_GRID]).squeeze().T"
   ]
  },
  {
   "cell_type": "code",
   "execution_count": 3,
   "id": "e4339366",
   "metadata": {},
   "outputs": [
    {
     "data": {
      "text/plain": [
       "array([[ 4.,  8.],\n",
       "       [ 8., 16.]])"
      ]
     },
     "execution_count": 3,
     "metadata": {},
     "output_type": "execute_result"
    }
   ],
   "source": [
    "RAD_GRID"
   ]
  },
  {
   "cell_type": "code",
   "execution_count": 4,
   "id": "2bee748c-0980-4474-a541-972d48417f93",
   "metadata": {},
   "outputs": [],
   "source": [
    "commands = []\n",
    "\n",
    "for i, RAD in enumerate(RAD_GRID):\n",
    "    for j in range(len(GRID[VAR1])-1):\n",
    "        for k in range(len(GRID[VAR2])-1):\n",
    "            RUN_ID = \"{0}_{1}_{2}_npl_{3}_{4}_{5}_{6}_{7}_{8}_{9}_{10}_{11}_{12}_{13}\".format(DATA_SOURCE, LABEL, DISTRIBUTION, \n",
    "                                                                                              MULTIPLICITY[0], MULTIPLICITY[1], \n",
    "                                                                                              RAD_TYPE, RAD[0], RAD[1],\n",
    "                                                                                              VAR1, GRID[VAR1][j], GRID[VAR1][j+1],\n",
    "                                                                                              VAR2, GRID[VAR2][k], GRID[VAR2][k+1]\n",
    "                                                                                             )\n",
    "            \n",
    "            theano_flags = \"THEANO_FLAGS='base_compiledir=/data/user/gjgilbert/projects/kepler-ecc-rp/.theano/,compiledir_format=temp_compildir_{0}'\".format(RUN_ID)\n",
    "            \n",
    "            run_python = \"python bin/infer_hbayes_ecc.py\"\n",
    "            \n",
    "            \n",
    "            arguments  = \"--run_id {0} --data_dir {1} --data_source {2} --distribution {3}\".format(RUN_ID, DATA_DIR, DATA_SOURCE, DISTRIBUTION)\n",
    "            arguments += \" --multiplicity {0} {1} --rad_type {2} --rad_lim {3} {4}\".format(MULTIPLICITY[0], MULTIPLICITY[1], RAD_TYPE, RAD[0], RAD[1])\n",
    "            \n",
    "            if RAD_FWHM is not None:\n",
    "                arguments += \" --rad_fwhm {0}\".format(RAD_FWHM)\n",
    "            \n",
    "            arguments += \" --{0}_lim {1} {2} --{3}_lim {4} {5}\".format(VAR1, GRID[VAR1][j], GRID[VAR1][j+1], VAR2, GRID[VAR2][k], GRID[VAR2][k+1])\n",
    "\n",
    "            if DISTRIBUTION == 'histogram':\n",
    "                arguments += \" --nbin 25\"\n",
    "\n",
    "            arguments += \" --e_detprior 1 --b_detprior 0\"\n",
    "            \n",
    "            cleanup = \"&> Logs/log_{0}.log & wait ; rm -r /data/user/gjgilbert/projects/kepler-ecc-rp/.theano/temp_compildir_{0} &\".format(RUN_ID)\n",
    "\n",
    "            commands.append(\"{0} {1} {2} {3}\".format(theano_flags, run_python, arguments, cleanup))"
   ]
  },
  {
   "cell_type": "code",
   "execution_count": 6,
   "id": "156cae9f-d6ac-4ff2-bab9-371cf443a131",
   "metadata": {},
   "outputs": [
    {
     "name": "stdout",
     "output_type": "stream",
     "text": [
      "THEANO_FLAGS='base_compiledir=/data/user/gjgilbert/projects/kepler-ecc-rp/.theano/,compiledir_format=temp_compildir_ALDERAAN_alderaan-all-LC-metallicity_empirical_npl_1_99_rpadj_4.0_8.0_feh_-0.4_0.0_rstar_0.7_1.4' python bin/infer_hbayes_ecc.py --run_id ALDERAAN_alderaan-all-LC-metallicity_empirical_npl_1_99_rpadj_4.0_8.0_feh_-0.4_0.0_rstar_0.7_1.4 --data_dir /data/user/gjgilbert/projects/alderaan/Results/ecc-all-LC-final/ --data_source ALDERAAN --distribution empirical --multiplicity 1 99 --rad_type rpadj --rad_lim 4.0 8.0 --feh_lim -0.4 0.0 --rstar_lim 0.7 1.4 --e_detprior 1 --b_detprior 0 &> Logs/log_ALDERAAN_alderaan-all-LC-metallicity_empirical_npl_1_99_rpadj_4.0_8.0_feh_-0.4_0.0_rstar_0.7_1.4.log & wait ; rm -r /data/user/gjgilbert/projects/kepler-ecc-rp/.theano/temp_compildir_ALDERAAN_alderaan-all-LC-metallicity_empirical_npl_1_99_rpadj_4.0_8.0_feh_-0.4_0.0_rstar_0.7_1.4 &\n",
      "THEANO_FLAGS='base_compiledir=/data/user/gjgilbert/projects/kepler-ecc-rp/.theano/,compiledir_format=temp_compildir_ALDERAAN_alderaan-all-LC-metallicity_empirical_npl_1_99_rpadj_4.0_8.0_feh_0.0_0.4_rstar_0.7_1.4' python bin/infer_hbayes_ecc.py --run_id ALDERAAN_alderaan-all-LC-metallicity_empirical_npl_1_99_rpadj_4.0_8.0_feh_0.0_0.4_rstar_0.7_1.4 --data_dir /data/user/gjgilbert/projects/alderaan/Results/ecc-all-LC-final/ --data_source ALDERAAN --distribution empirical --multiplicity 1 99 --rad_type rpadj --rad_lim 4.0 8.0 --feh_lim 0.0 0.4 --rstar_lim 0.7 1.4 --e_detprior 1 --b_detprior 0 &> Logs/log_ALDERAAN_alderaan-all-LC-metallicity_empirical_npl_1_99_rpadj_4.0_8.0_feh_0.0_0.4_rstar_0.7_1.4.log & wait ; rm -r /data/user/gjgilbert/projects/kepler-ecc-rp/.theano/temp_compildir_ALDERAAN_alderaan-all-LC-metallicity_empirical_npl_1_99_rpadj_4.0_8.0_feh_0.0_0.4_rstar_0.7_1.4 &\n",
      "THEANO_FLAGS='base_compiledir=/data/user/gjgilbert/projects/kepler-ecc-rp/.theano/,compiledir_format=temp_compildir_ALDERAAN_alderaan-all-LC-metallicity_empirical_npl_1_99_rpadj_8.0_16.0_feh_-0.4_0.0_rstar_0.7_1.4' python bin/infer_hbayes_ecc.py --run_id ALDERAAN_alderaan-all-LC-metallicity_empirical_npl_1_99_rpadj_8.0_16.0_feh_-0.4_0.0_rstar_0.7_1.4 --data_dir /data/user/gjgilbert/projects/alderaan/Results/ecc-all-LC-final/ --data_source ALDERAAN --distribution empirical --multiplicity 1 99 --rad_type rpadj --rad_lim 8.0 16.0 --feh_lim -0.4 0.0 --rstar_lim 0.7 1.4 --e_detprior 1 --b_detprior 0 &> Logs/log_ALDERAAN_alderaan-all-LC-metallicity_empirical_npl_1_99_rpadj_8.0_16.0_feh_-0.4_0.0_rstar_0.7_1.4.log & wait ; rm -r /data/user/gjgilbert/projects/kepler-ecc-rp/.theano/temp_compildir_ALDERAAN_alderaan-all-LC-metallicity_empirical_npl_1_99_rpadj_8.0_16.0_feh_-0.4_0.0_rstar_0.7_1.4 &\n",
      "THEANO_FLAGS='base_compiledir=/data/user/gjgilbert/projects/kepler-ecc-rp/.theano/,compiledir_format=temp_compildir_ALDERAAN_alderaan-all-LC-metallicity_empirical_npl_1_99_rpadj_8.0_16.0_feh_0.0_0.4_rstar_0.7_1.4' python bin/infer_hbayes_ecc.py --run_id ALDERAAN_alderaan-all-LC-metallicity_empirical_npl_1_99_rpadj_8.0_16.0_feh_0.0_0.4_rstar_0.7_1.4 --data_dir /data/user/gjgilbert/projects/alderaan/Results/ecc-all-LC-final/ --data_source ALDERAAN --distribution empirical --multiplicity 1 99 --rad_type rpadj --rad_lim 8.0 16.0 --feh_lim 0.0 0.4 --rstar_lim 0.7 1.4 --e_detprior 1 --b_detprior 0 &> Logs/log_ALDERAAN_alderaan-all-LC-metallicity_empirical_npl_1_99_rpadj_8.0_16.0_feh_0.0_0.4_rstar_0.7_1.4.log & wait ; rm -r /data/user/gjgilbert/projects/kepler-ecc-rp/.theano/temp_compildir_ALDERAAN_alderaan-all-LC-metallicity_empirical_npl_1_99_rpadj_8.0_16.0_feh_0.0_0.4_rstar_0.7_1.4 &\n"
     ]
    }
   ],
   "source": [
    "for c in commands:\n",
    "    print(c)"
   ]
  },
  {
   "cell_type": "code",
   "execution_count": null,
   "id": "a8316e48",
   "metadata": {},
   "outputs": [],
   "source": []
  },
  {
   "cell_type": "code",
   "execution_count": null,
   "id": "2e6b3e8b",
   "metadata": {},
   "outputs": [],
   "source": []
  },
  {
   "cell_type": "code",
   "execution_count": null,
   "id": "5c1365af-0d08-4e43-ab04-e80f53ae5662",
   "metadata": {},
   "outputs": [],
   "source": []
  },
  {
   "cell_type": "code",
   "execution_count": null,
   "id": "9e2fde37",
   "metadata": {},
   "outputs": [],
   "source": [
    "import numpy as np\n",
    "\n",
    "np.logspace(np.log10(1), np.log10(100.), 5).round(3)"
   ]
  },
  {
   "cell_type": "code",
   "execution_count": null,
   "id": "5d91df19",
   "metadata": {},
   "outputs": [],
   "source": []
  },
  {
   "cell_type": "code",
   "execution_count": null,
   "id": "3acf7f24",
   "metadata": {},
   "outputs": [],
   "source": [
    "np.array([0.789, 4.889])*0.3/2.355"
   ]
  },
  {
   "cell_type": "code",
   "execution_count": null,
   "id": "a7a4f2cc",
   "metadata": {},
   "outputs": [],
   "source": []
  },
  {
   "cell_type": "code",
   "execution_count": null,
   "id": "cf2a026b",
   "metadata": {},
   "outputs": [],
   "source": []
  },
  {
   "cell_type": "code",
   "execution_count": null,
   "id": "b8d45783-c0f4-4955-bb7a-1530978c6da0",
   "metadata": {},
   "outputs": [],
   "source": [
    "# nominal <e>-Rp relationship with tophat binning\n",
    "RAD_GRID = [0.5, 0.657, 0.905, 1.136, 1.364,  1.636,  1.964,  2.357,  2.828,  3.394, 4.264, 5.867, 8.45, 12.17, 16.0]\n",
    "\n",
    "# nominal <e>-Rp relationship with weighted binning\n",
    "RAD_GRID = [1.037, 1.245, 1.494, 1.793, 2.151, 2.582, 3.099, 3.719]  # middle deciles - 20% FWHM\n",
    "RAD_GRID = [0.548, 0.789, 4.889, 7.041, 10.141, 14.605]              # bottom/top deciles - 40% FWHM\n",
    "\n",
    "# high-resolution <e>-Rp relationship near radius valley; use 10% FWHM\n",
    "RAD_GRID = [1.037, 1.136, 1.245, 1.364, 1.494, 1.636, 1.793, 1.964, \n",
    "            2.151, 2.357, 2.582, 2.828, 3.099, 3.394, 3.719]\n",
    "\n",
    "\n",
    "# category5 physical groupings\n",
    "RAD_GRID = [0.5, 1.0, 1.84, 4.0, 8.0, 16.0]\n",
    "\n",
    "\n",
    "# period\n",
    "PER_GRID = [1, 3, 10, 30, 100]\n",
    "\n",
    "\n",
    "# metallicity\n",
    "FEH_GRID = [-0.4, -0.2, 0.0, 0.2, 0.4]"
   ]
  }
 ],
 "metadata": {
  "kernelspec": {
   "display_name": "Python 3 (ipykernel)",
   "language": "python",
   "name": "python3"
  },
  "language_info": {
   "codemirror_mode": {
    "name": "ipython",
    "version": 3
   },
   "file_extension": ".py",
   "mimetype": "text/x-python",
   "name": "python",
   "nbconvert_exporter": "python",
   "pygments_lexer": "ipython3",
   "version": "3.9.19"
  }
 },
 "nbformat": 4,
 "nbformat_minor": 5
}
