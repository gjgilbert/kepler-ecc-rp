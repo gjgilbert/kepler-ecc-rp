{
 "cells": [
  {
   "cell_type": "code",
   "execution_count": 1,
   "id": "a5d9f998-f364-4164-8681-bf25b91d366d",
   "metadata": {},
   "outputs": [
    {
     "name": "stderr",
     "output_type": "stream",
     "text": [
      "WARNING (theano.link.c.cmodule): install mkl with `conda install mkl-service`: No module named 'mkl'\n"
     ]
    }
   ],
   "source": [
    "import numpy as np\n",
    "import pandas as pd\n",
    "import matplotlib.pyplot as plt\n",
    "import corner\n",
    "import os\n",
    "import sys\n",
    "import glob\n",
    "from   astropy.io import fits\n",
    "from   copy import deepcopy\n",
    "from   scipy.special import logsumexp\n",
    "from   scipy.interpolate import CubicSpline, UnivariateSpline, PchipInterpolator\n",
    "import aesara_theano_fallback.tensor as T\n",
    "from   aesara_theano_fallback import aesara as theano\n",
    "\n",
    "PROJECT_DIR = '/Users/research/projects/kepler-ecc-rp/'\n",
    "\n",
    "sys.path.append(PROJECT_DIR)\n",
    "from utils.stats import weighted_percentile"
   ]
  },
  {
   "cell_type": "code",
   "execution_count": 2,
   "id": "1e8a2265-3640-4e18-9225-71fc05179bc4",
   "metadata": {},
   "outputs": [],
   "source": [
    "#PATH = os.path.join(PROJECT_DIR, 'Results/20240829/alderaan-singles-LC-template/')\n",
    "#PATH = os.path.join(PROJECT_DIR, 'Results/20240904/alderaan-multis-LC-template/')\n",
    "PATH = os.path.join(PROJECT_DIR, 'Results/20241006/alderaan-all-LC-template/')\n",
    "#PATH = os.path.join(PROJECT_DIR, 'Results/20241004/injection-test-template/')\n",
    "files = list(np.sort(glob.glob(os.path.join(PATH, '*.fits'))))\n",
    "\n",
    "# reorder to put master file (full population) at end of list\n",
    "if len(files) > 1:\n",
    "    master = [files[1]]\n",
    "    files.pop(1)\n",
    "    files = files + master\n",
    "\n",
    "    # reverse order\n",
    "    files.reverse()"
   ]
  },
  {
   "cell_type": "code",
   "execution_count": 3,
   "id": "1a2eb5e2",
   "metadata": {},
   "outputs": [
    {
     "data": {
      "text/plain": [
       "['/Users/research/projects/kepler-ecc-rp/Results/20241006/alderaan-all-LC-template/20241006_ALDERAAN_alderaan-all-LC-template_histogram_npl_1_99_rpadj_0.5_16.0_per_1_100_rstar_0.7_1.4_000.fits']"
      ]
     },
     "execution_count": 3,
     "metadata": {},
     "output_type": "execute_result"
    }
   ],
   "source": [
    "files"
   ]
  },
  {
   "cell_type": "markdown",
   "id": "6faa5fdf-37f1-4750-bd22-edc01693768c",
   "metadata": {},
   "source": [
    "## Load data"
   ]
  },
  {
   "cell_type": "code",
   "execution_count": 4,
   "id": "7a629cf6-6740-4967-b504-8c71547d4636",
   "metadata": {},
   "outputs": [],
   "source": [
    "nfiles = len(files)\n",
    "\n",
    "samples = [None]*nfiles\n",
    "headers = [None]*nfiles\n",
    "bin_edges = [None]*nfiles\n",
    "\n",
    "for i, fname in enumerate(files):\n",
    "    with fits.open(fname) as hduL:\n",
    "        headers[i] = hduL[0].header\n",
    "        data = hduL['SAMPLES'].data\n",
    "        keys = data.names\n",
    "        \n",
    "        _samples = []\n",
    "        for k in keys:\n",
    "            _samples.append(data[k])\n",
    "    \n",
    "        samples[i] = pd.DataFrame(np.array(_samples).T, columns=keys)\n",
    "        bin_edges[i] = np.array(hduL['BINEDGES'].data)"
   ]
  },
  {
   "cell_type": "code",
   "execution_count": 5,
   "id": "e0be5689-a2e8-47bd-b35f-17bd61cb95f7",
   "metadata": {},
   "outputs": [],
   "source": [
    "rp = np.zeros((len(samples),2), dtype='float')\n",
    "ecc = np.zeros((len(samples),len(samples[0].mean_ecc)), dtype='float')\n",
    "mult = np.zeros(len(samples), dtype='int')\n",
    "nobj = np.zeros(len(samples), dtype='int')\n",
    "\n",
    "for i, s in enumerate(samples):\n",
    "    head = headers[i]\n",
    "    \n",
    "    rp[i]   = (head['RAD_0'], head['RAD_1'])\n",
    "    ecc[i]  = s.mean_ecc.values\n",
    "    mult[i] = head['MULT_1']\n",
    "    nobj[i] = head['NOBJ']"
   ]
  },
  {
   "cell_type": "markdown",
   "id": "83b90295-2a06-4cb8-b603-4fb36b1303ad",
   "metadata": {},
   "source": [
    "## Template shape"
   ]
  },
  {
   "cell_type": "code",
   "execution_count": 6,
   "id": "07a1d2b3-cc7c-4c70-87dc-ec025e2c2033",
   "metadata": {},
   "outputs": [],
   "source": [
    "def find_first_local_min_arg(y):\n",
    "    n = len(y)\n",
    "    for j in range(1,n-1):\n",
    "        if (y[j] < y[j-1])*(y[j] < y[j+1]):\n",
    "            return j\n",
    "\n",
    "def find_first_local_max_arg(y):\n",
    "    n = len(y)\n",
    "    for j in range(1,n-1):\n",
    "        if (y[j] > y[j-1])*(y[j] > y[j+1]):\n",
    "            return j"
   ]
  },
  {
   "cell_type": "markdown",
   "id": "ae7f4493-e0e2-4fb1-9c01-e9f41eda31d9",
   "metadata": {},
   "source": [
    "#### Interpolate to uniform grid and enforce monotonicity"
   ]
  },
  {
   "cell_type": "code",
   "execution_count": 7,
   "id": "db1b68d4",
   "metadata": {},
   "outputs": [],
   "source": [
    "from scipy import stats"
   ]
  },
  {
   "cell_type": "code",
   "execution_count": 8,
   "id": "6d15a4f4-b28f-45d7-81ad-657f1a0830be",
   "metadata": {},
   "outputs": [
    {
     "data": {
      "image/png": "[encoded data removed]",
      "text/plain": [
       "<Figure size 1200x400 with 2 Axes>"
      ]
     },
     "metadata": {},
     "output_type": "display_data"
    }
   ],
   "source": [
    "Nbin = 100\n",
    "e_grid = np.linspace(0,1,Nbin+1)\n",
    "ln_pdf = []\n",
    "\n",
    "for i, s in enumerate(samples):\n",
    "    # load ln_pdf amples\n",
    "    lnp = s.filter(regex='ln_pdf')\n",
    "    lnp = lnp.reindex(sorted(lnp.columns), axis=1)\n",
    "\n",
    "    # raw values\n",
    "    x_raw = 0.5*(bin_edges[i][1:] + bin_edges[i][:-1])\n",
    "    y_raw = np.percentile(lnp, 50, axis=0)\n",
    "\n",
    "    # interpolate to uniorm grid\n",
    "    cspline = CubicSpline(x_raw, y_raw, extrapolate=True)\n",
    "    x_grid = e_grid\n",
    "    y_grid = cspline(x_grid)\n",
    "\n",
    "    # enforce monotonicity\n",
    "    ind = np.arange(len(y_grid), dtype='int')\n",
    "    loc = find_first_local_min_arg(y_grid)    \n",
    "    if loc is None:\n",
    "        loc = len(y_grid)-1\n",
    "    \n",
    "    xmin = x_grid[loc]\n",
    "    ymin = y_grid[loc]\n",
    "\n",
    "    dx = 1./Nbin\n",
    "    dy = y_grid[loc] - y_grid[loc-1]\n",
    "\n",
    "    tangent = ymin + (dy/dx)*(x_grid-xmin)\n",
    "\n",
    "    y_mono = y_grid.copy()\n",
    "    y_mono[ind > loc] = tangent[ind > loc]\n",
    "\n",
    "    # normalize\n",
    "    y_norm = y_mono - logsumexp(y_mono + np.log(1/Nbin))\n",
    "    \n",
    "    # store pdf\n",
    "    ln_pdf.append(y_norm)\n",
    "\n",
    "#ln_pdf = np.array(ln_pdf)[::-1]\n",
    "\n",
    "# make a plot\n",
    "colors = ['k', 'C3', 'C1', 'C0', 'C2', 'C4']\n",
    "\n",
    "fig, ax = plt.subplots(1,2, figsize=(12,4))\n",
    "for i in range(2):\n",
    "    for j in range(len(ln_pdf)):\n",
    "        ax[i].plot(e_grid, np.exp(ln_pdf[j]), color=colors[j], alpha=0.6, lw=2)\n",
    "ax[1].set_yscale('log')\n",
    "plt.show()"
   ]
  },
  {
   "cell_type": "markdown",
   "id": "439961ef-58ec-4af3-a4f2-ce2ee3083310",
   "metadata": {},
   "source": [
    "#### Apply smoothing spline"
   ]
  },
  {
   "cell_type": "code",
   "execution_count": 9,
   "id": "8a22a41d-2016-4f5d-950c-5c94648fcb34",
   "metadata": {},
   "outputs": [
    {
     "data": {
      "image/png": "[encoded data removed]",
      "text/plain": [
       "<Figure size 1200x400 with 2 Axes>"
      ]
     },
     "metadata": {},
     "output_type": "display_data"
    }
   ],
   "source": [
    "# mean and variance\n",
    "ln_pdf_mean = np.average(ln_pdf, weights=nobj/np.sum(nobj), axis=0)\n",
    "ln_pdf_var = np.average((ln_pdf-ln_pdf_mean)**2, weights=nobj/np.sum(nobj), axis=0)\n",
    "\n",
    "# apply smoothing spline\n",
    "y = UnivariateSpline(e_grid, ln_pdf_mean, s=1/Nbin)(e_grid)\n",
    "\n",
    "# enforce monotonicity\n",
    "loc = find_first_local_min_arg(y)\n",
    "if loc is None:\n",
    "    loc = len(y)-1\n",
    "\n",
    "xmin = e_grid[loc]\n",
    "ymin = y[loc]\n",
    "\n",
    "dx = 1./Nbin\n",
    "dy = y[loc] - y[loc-1]\n",
    "\n",
    "tangent = ymin + (dy/dx)*(e_grid-xmin)\n",
    "y[loc:] = tangent[loc:]\n",
    "\n",
    "# smooth some wiggles in the tail\n",
    "derivative = CubicSpline(e_grid, y).derivative(1)(e_grid)\n",
    "loc = find_first_local_max_arg(derivative)\n",
    "\n",
    "tangent = y[loc] + derivative[loc] * (e_grid - e_grid[loc])\n",
    "y[loc:] = tangent[loc:]\n",
    "\n",
    "# construct master template and normalize\n",
    "ln_pdf_combo = y - logsumexp(y - np.log(Nbin))\n",
    "\n",
    "# make a plot\n",
    "colors = ['k', 'C3', 'C1', 'C0', 'C2', 'C4']\n",
    "mean_ecc = np.mean(ecc, axis=1)\n",
    "\n",
    "fig, ax = plt.subplots(1,2, figsize=(12,4))\n",
    "for i in range(2):\n",
    "    for j in range(len(ln_pdf)):\n",
    "        if j == 0:\n",
    "            ax[i].plot(e_grid, np.exp(ln_pdf[j]), color=colors[j], lw=2, \n",
    "                       label=mean_ecc[j].round(3))\n",
    "        else:\n",
    "            ax[i].plot(e_grid, np.exp(ln_pdf[j]), color=colors[j], alpha=0.6, \n",
    "                       label=mean_ecc[j].round(3))\n",
    "            \n",
    "    ax[i].plot(e_grid, np.exp(ln_pdf_combo), c='grey', ls='--', lw=2)\n",
    "ax[0].legend()\n",
    "ax[1].set_yscale('log')\n",
    "plt.show()\n",
    "\n"
   ]
  },
  {
   "cell_type": "markdown",
   "id": "8957cd30-5c8b-43e3-a876-6c6ae7b37443",
   "metadata": {},
   "source": [
    "## Ouput template file and plot for paper"
   ]
  },
  {
   "cell_type": "code",
   "execution_count": 10,
   "id": "d81aabb5-8f8b-404c-9114-97788ff53f51",
   "metadata": {},
   "outputs": [],
   "source": [
    "np.savetxt(os.path.join(PROJECT_DIR, 'template_distribution.txt'), np.vstack([e_grid, ln_pdf_combo]).T)"
   ]
  },
  {
   "cell_type": "markdown",
   "id": "d8c0a11a-3b4f-4c63-b1e0-5d184f6ada5c",
   "metadata": {},
   "source": [
    "## Manual interpolation"
   ]
  },
  {
   "cell_type": "code",
   "execution_count": null,
   "id": "275cbc35-43f6-499d-aead-18b30d091127",
   "metadata": {},
   "outputs": [],
   "source": [
    "x, y = np.loadtxt(os.path.join(PROJECT_DIR, 'template_distribution.txt')).T\n",
    "\n",
    "template_spline = CubicSpline(x, y, extrapolate=False)"
   ]
  },
  {
   "cell_type": "markdown",
   "id": "5b249f33-7661-4852-8ff9-770de7f2a3bb",
   "metadata": {},
   "source": [
    "#### Using numpy"
   ]
  },
  {
   "cell_type": "code",
   "execution_count": null,
   "id": "28bd7baa-68b2-49a0-9d1e-46cd13525a0b",
   "metadata": {},
   "outputs": [],
   "source": [
    "bin_centers = x\n",
    "b = 2.5\n",
    "\n",
    "x_ = bin_centers*b\n",
    "inds = np.searchsorted(template_spline.x[1:], x_)\n",
    "\n",
    "coeffs = template_spline.c\n",
    "coeffs = np.concatenate([coeffs.T, np.array([[0,0,0,template_spline(1)]])]).T\n",
    "coeffs = coeffs[:,inds]\n",
    "\n",
    "x_ = x_ - template_spline.x[inds]\n",
    "x_ = np.stack([np.ones_like(x_), x_, x_**2, x_**3])[::-1]\n",
    "y_ = np.sum(coeffs*x_, axis=0)\n",
    "\n",
    "plt.figure(figsize=(4,3))\n",
    "plt.plot(bin_centers, np.exp(y_), c='k')\n",
    "plt.show()"
   ]
  },
  {
   "cell_type": "markdown",
   "id": "51f1a707-33bc-4410-880e-b1cbf1e79479",
   "metadata": {},
   "source": [
    "#### Using aesara/theano"
   ]
  },
  {
   "cell_type": "code",
   "execution_count": null,
   "id": "928bdb7b-cfd2-4d15-8f62-17e14503b5f9",
   "metadata": {},
   "outputs": [],
   "source": [
    "bin_centers = x\n",
    "b = 2.5\n",
    "\n",
    "x_ = bin_centers*b\n",
    "inds = T.TensorVariable.searchsorted(template_spline.x[1:], x_)\n",
    "\n",
    "coeffs = theano.shared(template_spline.c)\n",
    "coeffs = T.concatenate([coeffs.T, np.array([[0,0,0,template_spline(1)]])]).T\n",
    "coeffs = coeffs[:,inds]\n",
    "\n",
    "x_ = x_ - theano.shared(template_spline.x)[inds]\n",
    "x_ = T.stack([T.ones_like(x_), x_, x_**2, x_**3])[::-1]\n",
    "y_ = T.sum(coeffs*x_, axis=0)\n",
    "\n",
    "plt.figure(figsize=(4,3))\n",
    "plt.plot(bin_centers, np.exp(y_.eval()), c='k')\n",
    "plt.show()"
   ]
  },
  {
   "cell_type": "code",
   "execution_count": null,
   "id": "7102c3fb-9401-4a95-ac31-1a6c792de64a",
   "metadata": {},
   "outputs": [],
   "source": []
  }
 ],
 "metadata": {
  "kernelspec": {
   "display_name": "Python 3 (ipykernel)",
   "language": "python",
   "name": "python3"
  },
  "language_info": {
   "codemirror_mode": {
    "name": "ipython",
    "version": 3
   },
   "file_extension": ".py",
   "mimetype": "text/x-python",
   "name": "python",
   "nbconvert_exporter": "python",
   "pygments_lexer": "ipython3",
   "version": "3.9.19"
  }
 },
 "nbformat": 4,
 "nbformat_minor": 5
}
