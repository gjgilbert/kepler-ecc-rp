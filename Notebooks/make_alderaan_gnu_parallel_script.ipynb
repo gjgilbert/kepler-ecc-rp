{
 "cells": [
  {
   "cell_type": "code",
   "execution_count": 1,
   "id": "ba783336",
   "metadata": {},
   "outputs": [],
   "source": [
    "import numpy as np\n",
    "import pandas as pd\n",
    "import matplotlib.pyplot as plt\n",
    "\n",
    "import os\n",
    "import sys\n",
    "from datetime import datetime\n",
    "\n",
    "today = datetime.today().strftime(\"%Y-%m-%d\")\n",
    "\n",
    "MISSION     = 'Kepler'\n",
    "PROJECT_DIR = '/Users/research/projects/kepler-ecc-rp/'\n",
    "RUN_ID      = 'ecc-all-LC-omc-refit-20240924'\n",
    "\n",
    "_proj = '/data/user/gjgilbert/projects/alderaan/'\n",
    "_cat  = 'kepler_dr25_gaia_dr2_crossmatch.csv'\n",
    "_data = '/data/user/gjgilbert/data/MAST_downloads/'"
   ]
  },
  {
   "cell_type": "code",
   "execution_count": 2,
   "id": "fbda2d9b-3940-4fe2-a9d2-f3b05c471f91",
   "metadata": {},
   "outputs": [],
   "source": [
    "MULTIPLICITY = (1,99)\n",
    "PER_LIM      = (1,300)\n",
    "RAD_TYPE     = 'rp'\n",
    "RAD_LIM      = (0.5,16)\n",
    "MSTAR_LIM    = (0.,10.)\n",
    "RSTAR_LIM    = (0.7,1.4)\n",
    "FEH_LIM      = (-1.0,1.0)\n",
    "TEFF_LIM     = (4700,6500)\n",
    "AGE_LIM      = (0,14)"
   ]
  },
  {
   "cell_type": "markdown",
   "id": "26383474-b39c-4efb-a035-50f615f94e75",
   "metadata": {},
   "source": [
    "## Load DR25 data"
   ]
  },
  {
   "cell_type": "code",
   "execution_count": 3,
   "id": "0d5b2cb8",
   "metadata": {},
   "outputs": [],
   "source": [
    "DR25_CATALOG = os.path.join(PROJECT_DIR, 'Catalogs/kepler_dr25_gaia_dr2_crossmatch.csv')\n",
    "catalog = pd.read_csv(DR25_CATALOG, index_col=0)\n",
    "\n",
    "# hard-code period and radius limits\n",
    "use  = (catalog.period > 1) * (catalog.period < 300)\n",
    "use *= (catalog.rp > 0) * (catalog.rp < 16)\n",
    "\n",
    "# clean up stellar sample\n",
    "use *= catalog.logg > 4.0                                 # surface gravity as proxy for main sequence\n",
    "use *= ((catalog.rcf - 1) < 0.05) + np.isnan(catalog.rcf) # radius correction factor (Furlan+ 2017)\n",
    "use *= catalog.ruwe < 1.4                                 # Gaia RUWE\n",
    "\n",
    "# slice subpopulation\n",
    "use *= ((catalog.npl >= MULTIPLICITY[0]) &\n",
    "        (catalog.npl <= MULTIPLICITY[1]) &\n",
    "        (catalog.period >= PER_LIM[0]) &\n",
    "        (catalog.period <= PER_LIM[1]) &\n",
    "        (catalog.mstar >= MSTAR_LIM[0]) &\n",
    "        (catalog.mstar <= MSTAR_LIM[1]) &\n",
    "        (catalog.rstar >= RSTAR_LIM[0]) &\n",
    "        (catalog.rstar <= RSTAR_LIM[1]) &\n",
    "        (catalog.feh >= FEH_LIM[0]) &\n",
    "        (catalog.feh <= FEH_LIM[1]) &\n",
    "        (catalog.teff >= TEFF_LIM[0]) &\n",
    "        (catalog.teff <= TEFF_LIM[1]) &\n",
    "        (catalog.age >= AGE_LIM[0]) &\n",
    "        (catalog.age <= AGE_LIM[1])\n",
    "       )\n",
    "\n",
    "# update catalog\n",
    "catalog = catalog.loc[use].reset_index(drop=True)\n",
    "targets = np.array(catalog.planet_name)\n",
    "\n",
    "stars = np.sort(np.unique(catalog.koi_id))"
   ]
  },
  {
   "cell_type": "code",
   "execution_count": null,
   "id": "da68efdd-a176-4fe8-820f-c277f199b2de",
   "metadata": {},
   "outputs": [],
   "source": []
  },
  {
   "cell_type": "code",
   "execution_count": null,
   "id": "f9cebba8",
   "metadata": {},
   "outputs": [],
   "source": []
  },
  {
   "cell_type": "code",
   "execution_count": 5,
   "id": "0699cc00",
   "metadata": {},
   "outputs": [],
   "source": [
    "stars = ['K02305',\n",
    " 'K02363',\n",
    " 'K02380',\n",
    " 'K02507',\n",
    " 'K02512',\n",
    " 'K02555',\n",
    " 'K02560',\n",
    " 'K02594',\n",
    " 'K02617',\n",
    " 'K02660',\n",
    " 'K02856',\n",
    " 'K03017',\n",
    " 'K03232',\n",
    " 'K03396',\n",
    " 'K03436',\n",
    " 'K03472',\n",
    " 'K03966',\n",
    " 'K04037',\n",
    " 'K04051',\n",
    " 'K04251',\n",
    " 'K04255',\n",
    " 'K04411',\n",
    " 'K04466',\n",
    " 'K04613',\n",
    " 'K04655',\n",
    " 'K04710',\n",
    " 'K04765',\n",
    " 'K04776',\n",
    " 'K04801',\n",
    " 'K04815',\n",
    " 'K05288',\n",
    " 'K05632',\n",
    " 'K05732',\n",
    " 'K06179',\n",
    " 'K06182',\n",
    " 'K06209',\n",
    " 'K06765',\n",
    " 'K06931',\n",
    " 'K07252',\n",
    " 'K07359',\n",
    " 'K07628',\n",
    " 'K07635',\n",
    " 'K07644',\n",
    " 'K07679',\n",
    " 'K07715',\n",
    " 'K07749']"
   ]
  },
  {
   "cell_type": "code",
   "execution_count": null,
   "id": "147d7c14",
   "metadata": {},
   "outputs": [],
   "source": []
  },
  {
   "cell_type": "markdown",
   "id": "c3b514bd",
   "metadata": {},
   "source": [
    "#### detrend_and_estimate_ttvs"
   ]
  },
  {
   "cell_type": "code",
   "execution_count": 6,
   "id": "6205712d",
   "metadata": {},
   "outputs": [],
   "source": [
    "file = '../bin/ALDERAAN_detrend_and_estimate_ttvs-{0}.tot'.format(today)\n",
    "\n",
    "with open(file, 'w') as f:\n",
    "    f.write('#!/bin/sh\\n')\n",
    "    \n",
    "    for s in stars:\n",
    "        theano_str  = \"THEANO_FLAGS='base_compiledir=/data/user/gjgilbert/projects/alderaan/.theano/,compiledir_format={0}'\".format(s)\n",
    "        python_str  = \"python bin/detrend_and_estimate_ttvs.py\"\n",
    "        args_str    = \"--mission='{0}' --target='{1}' --project_dir={2} --catalog={3} --data_dir={4} --run_id={5}\".format(MISSION, s, _proj, _cat, _data, RUN_ID)\n",
    "        log_str     = \"Logs/{0}/detrend_and_estimate_ttvs_{1}.log\".format(RUN_ID, s)\n",
    "        cleanup_str = \"rm -r /data/user/gjgilbert/projects/alderaan/.theano/{0}\".format(s)\n",
    "\n",
    "        if MISSION == 'Simulated':\n",
    "            args_str += \" --run_id={0}\".format(RUN_ID)\n",
    "        \n",
    "        f.write(theano_str + \" \" + python_str + \" \" + args_str + \" &> \" + log_str + \" & wait ; \" + cleanup_str + \" &\\n\")     "
   ]
  },
  {
   "cell_type": "markdown",
   "id": "9062a671",
   "metadata": {},
   "source": [
    "#### analyze_autocorrelated_noise"
   ]
  },
  {
   "cell_type": "code",
   "execution_count": 7,
   "id": "f8bfeba2",
   "metadata": {},
   "outputs": [],
   "source": [
    "file = PROJECT_DIR + 'bin/ALDERAAN_analyze_autocorrelated_noise-{0}.tot'.format(today)\n",
    "\n",
    "with open(file, 'w') as f:\n",
    "    f.write('#!/bin/sh\\n')\n",
    "\n",
    "    for s in stars:\n",
    "        theano_str  = \"THEANO_FLAGS='base_compiledir=/data/user/gjgilbert/projects/alderaan/.theano/,compiledir_format={0}'\".format(s)\n",
    "        python_str  = \"python bin/analyze_autocorrelated_noise.py\"\n",
    "        args_str    = \"--mission='{0}' --target='{1}' --project_dir={2} --catalog={3} --data_dir={4} --run_id={5}\".format(MISSION, s, _proj, _cat, _data, RUN_ID)\n",
    "        log_str     = \"Logs/{0}/analyze_autocorrelated_noise_{1}.log\".format(RUN_ID, s)\n",
    "        cleanup_str = \"rm -r /data/user/gjgilbert/projects/alderaan/.theano/{0}\".format(s)\n",
    "        \n",
    "        if MISSION == 'Simulated':\n",
    "            args_str += \" --run_id={0}\".format(RUN_ID)\n",
    "\n",
    "        f.write(theano_str + \" \" + python_str + \" \" + args_str + \" &> \" + log_str + \" & wait ; \" + cleanup_str + \" &\\n\") "
   ]
  },
  {
   "cell_type": "markdown",
   "id": "a2743bfc",
   "metadata": {},
   "source": [
    "#### fit_transit_shape_simultaneous_nested_gp"
   ]
  },
  {
   "cell_type": "code",
   "execution_count": 8,
   "id": "886b8451",
   "metadata": {},
   "outputs": [],
   "source": [
    "file = PROJECT_DIR + 'bin/ALDERAAN_fit_transit_shape_simultaneous_nested-{0}.tot'.format(today)\n",
    "\n",
    "with open(file, 'w') as f:\n",
    "    f.write('#!/bin/sh\\n')\n",
    "\n",
    "    for s in stars:    \n",
    "        # pull relevant quantities and establish GLOBAL variables\n",
    "        use = np.array(catalog.koi_id) == s\n",
    "\n",
    "        theano_str  = \"THEANO_FLAGS='base_compiledir=/data/user/gjgilbert/projects/alderaan/.theano/,compiledir_format={0}'\".format(s)\n",
    "        python_str  = \"python bin/fit_transit_shape_simultaneous_nested.py\"\n",
    "        args_str    = \"--mission='{0}' --target='{1}' --project_dir={2} --catalog={3} --data_dir={4} --run_id={5}\".format(MISSION, s, _proj, _cat, _data, RUN_ID)\n",
    "        log_str     = \"Logs/{0}/fit_transit_shape_simultaneous_nested_{1}.log\".format(RUN_ID, s)\n",
    "        cleanup_str = \"rm -r /data/user/gjgilbert/projects/alderaan/.theano/{0}\".format(s)\n",
    "        \n",
    "        if MISSION == 'Simulated':\n",
    "            args_str += \" --run_id={0}\".format(RUN_ID)\n",
    "\n",
    "        f.write(theano_str + \" \" + python_str + \" \" + args_str + \" &> \" + log_str + \" & wait ; \" + cleanup_str + \" &\\n\") "
   ]
  },
  {
   "cell_type": "code",
   "execution_count": null,
   "id": "3e0620dd",
   "metadata": {},
   "outputs": [],
   "source": []
  },
  {
   "cell_type": "code",
   "execution_count": null,
   "id": "66478478",
   "metadata": {},
   "outputs": [],
   "source": []
  }
 ],
 "metadata": {
  "kernelspec": {
   "display_name": "Python 3 (ipykernel)",
   "language": "python",
   "name": "python3"
  },
  "language_info": {
   "codemirror_mode": {
    "name": "ipython",
    "version": 3
   },
   "file_extension": ".py",
   "mimetype": "text/x-python",
   "name": "python",
   "nbconvert_exporter": "python",
   "pygments_lexer": "ipython3",
   "version": "3.9.19"
  }
 },
 "nbformat": 4,
 "nbformat_minor": 5
}
