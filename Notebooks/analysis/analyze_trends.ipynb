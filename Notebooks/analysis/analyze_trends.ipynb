{
 "cells": [
  {
   "cell_type": "code",
   "execution_count": 1,
   "id": "658476da-7574-462f-9a99-9436e704ad51",
   "metadata": {},
   "outputs": [
    {
     "name": "stderr",
     "output_type": "stream",
     "text": [
      "WARNING (theano.link.c.cmodule): install mkl with `conda install mkl-service`: No module named 'mkl'\n"
     ]
    }
   ],
   "source": [
    "import numpy as np\n",
    "import pandas as pd\n",
    "import matplotlib.pyplot as plt\n",
    "import corner\n",
    "import os\n",
    "import sys\n",
    "import glob\n",
    "from copy import deepcopy\n",
    "from astropy.io import fits\n",
    "from scipy import stats\n",
    "\n",
    "import aesara_theano_fallback.tensor as T\n",
    "from   aesara_theano_fallback import aesara as theano\n",
    "import pymc3 as pm\n",
    "import pymc3_ext as pmx\n",
    "import corner\n",
    "\n",
    "PROJECT_DIR = '/Users/research/projects/kepler-ecc-rp/'\n",
    "\n",
    "sys.path.append(PROJECT_DIR)\n",
    "from utils.stats import weighted_percentile\n",
    "from utils.io import load_posteriors, extract_posteriors\n",
    "\n",
    "pi = np.pi"
   ]
  },
  {
   "cell_type": "markdown",
   "id": "ae8f5bd7",
   "metadata": {},
   "source": [
    "## Metallicity"
   ]
  },
  {
   "cell_type": "code",
   "execution_count": 2,
   "id": "be059d3c",
   "metadata": {},
   "outputs": [],
   "source": [
    "PATH = os.path.join(PROJECT_DIR, 'Results/20241016/alderaan-all-LC-metallicity/')\n",
    "files = list(np.sort(glob.glob(os.path.join(PATH, '*.fits'))))\n",
    "\n",
    "samples, headers, bin_edges = load_posteriors(files)\n",
    "rp, ecc, mult, nobj = extract_posteriors(samples, headers)\n",
    "\n",
    "\n",
    "feh = np.zeros_like(rp)\n",
    "for i, s in enumerate(samples):\n",
    "    head = headers[i]\n",
    "    feh[i] = (head['FEH_0'], head['FEH_1'])"
   ]
  },
  {
   "cell_type": "code",
   "execution_count": 3,
   "id": "b530f19a",
   "metadata": {},
   "outputs": [],
   "source": [
    "colors = ['C3', 'C1', 'C0', 'C2', 'C4']\n",
    "labels = ['Jovians', 'sub-Saturns', 'sub-Neptunes', 'super-Earths', 'sub-Earths']\n",
    "\n",
    "Ter = rp[:,0] == 0.5\n",
    "SE  = rp[:,0] == 1.0\n",
    "SN  = rp[:,0] == 1.84\n",
    "SS  = rp[:,0] == 4.0\n",
    "Jov = rp[:,0] == 8.0\n",
    "\n",
    "planet_groups = [Jov, SS, SN, SE, Ter]"
   ]
  },
  {
   "cell_type": "code",
   "execution_count": 4,
   "id": "b50fad0b",
   "metadata": {},
   "outputs": [
    {
     "name": "stderr",
     "output_type": "stream",
     "text": [
      "Multiprocess sampling (2 chains in 4 jobs)\n",
      "NUTS: [b, m]\n"
     ]
    },
    {
     "data": {
      "text/html": [
       "\n",
       "<style>\n",
       "    /* Turns off some styling */\n",
       "    progress {\n",
       "        /* gets rid of default border in Firefox and Opera. */\n",
       "        border: none;\n",
       "        /* Needs to be in here for Safari polyfill so background images work as expected. */\n",
       "        background-size: auto;\n",
       "    }\n",
       "    progress:not([value]), progress:not([value])::-webkit-progress-bar {\n",
       "        background: repeating-linear-gradient(45deg, #7e7e7e, #7e7e7e 10px, #5c5c5c 10px, #5c5c5c 20px);\n",
       "    }\n",
       "    .progress-bar-interrupted, .progress-bar-interrupted::-webkit-progress-bar {\n",
       "        background: #F44336;\n",
       "    }\n",
       "</style>\n"
      ],
      "text/plain": [
       "<IPython.core.display.HTML object>"
      ]
     },
     "metadata": {},
     "output_type": "display_data"
    },
    {
     "data": {
      "text/html": [
       "\n",
       "    <div>\n",
       "      <progress value='6000' class='' max='6000' style='width:300px; height:20px; vertical-align: middle;'></progress>\n",
       "      100.00% [6000/6000 00:00&lt;00:00 Sampling 2 chains, 0 divergences]\n",
       "    </div>\n",
       "    "
      ],
      "text/plain": [
       "<IPython.core.display.HTML object>"
      ]
     },
     "metadata": {},
     "output_type": "display_data"
    },
    {
     "name": "stderr",
     "output_type": "stream",
     "text": [
      "/opt/homebrew/anaconda3/envs/kepler-ecc-rp/lib/python3.9/site-packages/scipy/stats/_continuous_distns.py:624: RuntimeWarning: overflow encountered in _beta_ppf\n",
      "  return _boost._beta_ppf(q, a, b)\n",
      "/opt/homebrew/anaconda3/envs/kepler-ecc-rp/lib/python3.9/site-packages/scipy/stats/_continuous_distns.py:624: RuntimeWarning: overflow encountered in _beta_ppf\n",
      "  return _boost._beta_ppf(q, a, b)\n",
      "Sampling 2 chains for 2_000 tune and 1_000 draw iterations (4_000 + 2_000 draws total) took 2 seconds.\n",
      "Multiprocess sampling (2 chains in 4 jobs)\n",
      "NUTS: [b, m]\n"
     ]
    },
    {
     "data": {
      "text/html": [
       "\n",
       "<style>\n",
       "    /* Turns off some styling */\n",
       "    progress {\n",
       "        /* gets rid of default border in Firefox and Opera. */\n",
       "        border: none;\n",
       "        /* Needs to be in here for Safari polyfill so background images work as expected. */\n",
       "        background-size: auto;\n",
       "    }\n",
       "    progress:not([value]), progress:not([value])::-webkit-progress-bar {\n",
       "        background: repeating-linear-gradient(45deg, #7e7e7e, #7e7e7e 10px, #5c5c5c 10px, #5c5c5c 20px);\n",
       "    }\n",
       "    .progress-bar-interrupted, .progress-bar-interrupted::-webkit-progress-bar {\n",
       "        background: #F44336;\n",
       "    }\n",
       "</style>\n"
      ],
      "text/plain": [
       "<IPython.core.display.HTML object>"
      ]
     },
     "metadata": {},
     "output_type": "display_data"
    },
    {
     "data": {
      "text/html": [
       "\n",
       "    <div>\n",
       "      <progress value='6000' class='' max='6000' style='width:300px; height:20px; vertical-align: middle;'></progress>\n",
       "      100.00% [6000/6000 00:00&lt;00:00 Sampling 2 chains, 0 divergences]\n",
       "    </div>\n",
       "    "
      ],
      "text/plain": [
       "<IPython.core.display.HTML object>"
      ]
     },
     "metadata": {},
     "output_type": "display_data"
    },
    {
     "name": "stderr",
     "output_type": "stream",
     "text": [
      "/opt/homebrew/anaconda3/envs/kepler-ecc-rp/lib/python3.9/site-packages/scipy/stats/_continuous_distns.py:624: RuntimeWarning: overflow encountered in _beta_ppf\n",
      "  return _boost._beta_ppf(q, a, b)\n",
      "/opt/homebrew/anaconda3/envs/kepler-ecc-rp/lib/python3.9/site-packages/scipy/stats/_continuous_distns.py:624: RuntimeWarning: overflow encountered in _beta_ppf\n",
      "  return _boost._beta_ppf(q, a, b)\n",
      "Sampling 2 chains for 2_000 tune and 1_000 draw iterations (4_000 + 2_000 draws total) took 1 seconds.\n",
      "Multiprocess sampling (2 chains in 4 jobs)\n",
      "NUTS: [b, m]\n"
     ]
    },
    {
     "data": {
      "text/html": [
       "\n",
       "<style>\n",
       "    /* Turns off some styling */\n",
       "    progress {\n",
       "        /* gets rid of default border in Firefox and Opera. */\n",
       "        border: none;\n",
       "        /* Needs to be in here for Safari polyfill so background images work as expected. */\n",
       "        background-size: auto;\n",
       "    }\n",
       "    progress:not([value]), progress:not([value])::-webkit-progress-bar {\n",
       "        background: repeating-linear-gradient(45deg, #7e7e7e, #7e7e7e 10px, #5c5c5c 10px, #5c5c5c 20px);\n",
       "    }\n",
       "    .progress-bar-interrupted, .progress-bar-interrupted::-webkit-progress-bar {\n",
       "        background: #F44336;\n",
       "    }\n",
       "</style>\n"
      ],
      "text/plain": [
       "<IPython.core.display.HTML object>"
      ]
     },
     "metadata": {},
     "output_type": "display_data"
    },
    {
     "data": {
      "text/html": [
       "\n",
       "    <div>\n",
       "      <progress value='6000' class='' max='6000' style='width:300px; height:20px; vertical-align: middle;'></progress>\n",
       "      100.00% [6000/6000 00:00&lt;00:00 Sampling 2 chains, 0 divergences]\n",
       "    </div>\n",
       "    "
      ],
      "text/plain": [
       "<IPython.core.display.HTML object>"
      ]
     },
     "metadata": {},
     "output_type": "display_data"
    },
    {
     "name": "stderr",
     "output_type": "stream",
     "text": [
      "/opt/homebrew/anaconda3/envs/kepler-ecc-rp/lib/python3.9/site-packages/scipy/stats/_continuous_distns.py:624: RuntimeWarning: overflow encountered in _beta_ppf\n",
      "  return _boost._beta_ppf(q, a, b)\n",
      "/opt/homebrew/anaconda3/envs/kepler-ecc-rp/lib/python3.9/site-packages/scipy/stats/_continuous_distns.py:624: RuntimeWarning: overflow encountered in _beta_ppf\n",
      "  return _boost._beta_ppf(q, a, b)\n",
      "Sampling 2 chains for 2_000 tune and 1_000 draw iterations (4_000 + 2_000 draws total) took 1 seconds.\n",
      "Multiprocess sampling (2 chains in 4 jobs)\n",
      "NUTS: [b, m]\n"
     ]
    },
    {
     "data": {
      "text/html": [
       "\n",
       "<style>\n",
       "    /* Turns off some styling */\n",
       "    progress {\n",
       "        /* gets rid of default border in Firefox and Opera. */\n",
       "        border: none;\n",
       "        /* Needs to be in here for Safari polyfill so background images work as expected. */\n",
       "        background-size: auto;\n",
       "    }\n",
       "    progress:not([value]), progress:not([value])::-webkit-progress-bar {\n",
       "        background: repeating-linear-gradient(45deg, #7e7e7e, #7e7e7e 10px, #5c5c5c 10px, #5c5c5c 20px);\n",
       "    }\n",
       "    .progress-bar-interrupted, .progress-bar-interrupted::-webkit-progress-bar {\n",
       "        background: #F44336;\n",
       "    }\n",
       "</style>\n"
      ],
      "text/plain": [
       "<IPython.core.display.HTML object>"
      ]
     },
     "metadata": {},
     "output_type": "display_data"
    },
    {
     "data": {
      "text/html": [
       "\n",
       "    <div>\n",
       "      <progress value='6000' class='' max='6000' style='width:300px; height:20px; vertical-align: middle;'></progress>\n",
       "      100.00% [6000/6000 00:00&lt;00:00 Sampling 2 chains, 0 divergences]\n",
       "    </div>\n",
       "    "
      ],
      "text/plain": [
       "<IPython.core.display.HTML object>"
      ]
     },
     "metadata": {},
     "output_type": "display_data"
    },
    {
     "name": "stderr",
     "output_type": "stream",
     "text": [
      "/opt/homebrew/anaconda3/envs/kepler-ecc-rp/lib/python3.9/site-packages/scipy/stats/_continuous_distns.py:624: RuntimeWarning: overflow encountered in _beta_ppf\n",
      "  return _boost._beta_ppf(q, a, b)\n",
      "/opt/homebrew/anaconda3/envs/kepler-ecc-rp/lib/python3.9/site-packages/scipy/stats/_continuous_distns.py:624: RuntimeWarning: overflow encountered in _beta_ppf\n",
      "  return _boost._beta_ppf(q, a, b)\n",
      "Sampling 2 chains for 2_000 tune and 1_000 draw iterations (4_000 + 2_000 draws total) took 1 seconds.\n",
      "Multiprocess sampling (2 chains in 4 jobs)\n",
      "NUTS: [b, m]\n"
     ]
    },
    {
     "data": {
      "text/html": [
       "\n",
       "<style>\n",
       "    /* Turns off some styling */\n",
       "    progress {\n",
       "        /* gets rid of default border in Firefox and Opera. */\n",
       "        border: none;\n",
       "        /* Needs to be in here for Safari polyfill so background images work as expected. */\n",
       "        background-size: auto;\n",
       "    }\n",
       "    progress:not([value]), progress:not([value])::-webkit-progress-bar {\n",
       "        background: repeating-linear-gradient(45deg, #7e7e7e, #7e7e7e 10px, #5c5c5c 10px, #5c5c5c 20px);\n",
       "    }\n",
       "    .progress-bar-interrupted, .progress-bar-interrupted::-webkit-progress-bar {\n",
       "        background: #F44336;\n",
       "    }\n",
       "</style>\n"
      ],
      "text/plain": [
       "<IPython.core.display.HTML object>"
      ]
     },
     "metadata": {},
     "output_type": "display_data"
    },
    {
     "data": {
      "text/html": [
       "\n",
       "    <div>\n",
       "      <progress value='6000' class='' max='6000' style='width:300px; height:20px; vertical-align: middle;'></progress>\n",
       "      100.00% [6000/6000 00:00&lt;00:00 Sampling 2 chains, 0 divergences]\n",
       "    </div>\n",
       "    "
      ],
      "text/plain": [
       "<IPython.core.display.HTML object>"
      ]
     },
     "metadata": {},
     "output_type": "display_data"
    },
    {
     "name": "stderr",
     "output_type": "stream",
     "text": [
      "/opt/homebrew/anaconda3/envs/kepler-ecc-rp/lib/python3.9/site-packages/scipy/stats/_continuous_distns.py:624: RuntimeWarning: overflow encountered in _beta_ppf\n",
      "  return _boost._beta_ppf(q, a, b)\n",
      "/opt/homebrew/anaconda3/envs/kepler-ecc-rp/lib/python3.9/site-packages/scipy/stats/_continuous_distns.py:624: RuntimeWarning: overflow encountered in _beta_ppf\n",
      "  return _boost._beta_ppf(q, a, b)\n",
      "Sampling 2 chains for 2_000 tune and 1_000 draw iterations (4_000 + 2_000 draws total) took 1 seconds.\n"
     ]
    }
   ],
   "source": [
    "x_pred = np.linspace(-0.5,0.5,100)\n",
    "feh_traces = []\n",
    "\n",
    "for i, pgroup in enumerate(planet_groups):\n",
    "    x = np.mean(feh[pgroup], axis=1)\n",
    "    y = np.percentile(ecc[pgroup], [16,50,84], axis=1)\n",
    "    \n",
    "    y_obs = y[1]\n",
    "    y_err = np.abs(y[(0,2),:]-y[1])\n",
    "    \n",
    "    with pm.Model() as model:\n",
    "        m = pm.Normal(\"m\", mu=0, sd=1, testval=0)\n",
    "        b = pm.Uniform(\"b\", lower=0, upper=1, testval=np.mean(y_obs))\n",
    "    \n",
    "        y_mod = pm.Deterministic(\"y_mod\", m*x + b)\n",
    "        y_pred = pm.Deterministic(\"y_pred\", m*x_pred + b)\n",
    "        obs = pm.Normal(\"obs\", mu=y_mod, sd=y_err, observed=y_obs)\n",
    "\n",
    "    with model:\n",
    "        feh_traces.append(pmx.sample(tune=2000, draws=1000, chains=2, target_accept=0.95, return_inferencedata=True))"
   ]
  },
  {
   "cell_type": "code",
   "execution_count": 5,
   "id": "b4f57ffd",
   "metadata": {},
   "outputs": [
    {
     "data": {
      "image/png": "[encoded data removed]",
      "text/plain": [
       "<Figure size 640x480 with 1 Axes>"
      ]
     },
     "metadata": {},
     "output_type": "display_data"
    }
   ],
   "source": [
    "plt.figure()\n",
    "\n",
    "for i, pgroup in enumerate(planet_groups):\n",
    "    x = np.mean(feh[pgroup], axis=1)\n",
    "    y = np.percentile(ecc[pgroup], [16,50,84], axis=1)\n",
    "    \n",
    "    if (labels[i] == 'Jovians') or (labels[i] == 'sub-Saturns'):\n",
    "        xerr = np.abs(feh[pgroup].T - x)\n",
    "    else:\n",
    "        xerr = None\n",
    "    \n",
    "    yobs = y[1]\n",
    "    yerr = np.abs(y[(0,2),:]-y[1])\n",
    "    \n",
    "    xfit = x_pred\n",
    "    yfit = np.percentile(feh_traces[i].posterior.y_pred, [16,50,84], axis=(0,1))\n",
    "    \n",
    "    plt.errorbar(x, yobs, yerr=yerr, xerr=xerr, fmt='o', color=colors[i], capsize=5, fillstyle='none')\n",
    "    plt.plot(xfit, yfit[1], color=colors[i], lw=2, alpha=0.6, label=labels[i])\n",
    "    plt.fill_between(xfit, yfit[0], yfit[2], color=colors[i], alpha=0.2)\n",
    "\n",
    "plt.xlim(-0.45,0.45)\n",
    "plt.ylim(-0.02,0.52)\n",
    "plt.xlabel(\"[Fe/H]\", fontsize=20)\n",
    "plt.ylabel(r\"$\\langle e \\rangle$\", fontsize=20)\n",
    "plt.legend(loc='upper left')\n",
    "plt.savefig(os.path.join(PROJECT_DIR, 'Figures/ecc-metallicity.pdf'), bbox_inches='tight')\n",
    "plt.show()"
   ]
  },
  {
   "cell_type": "code",
   "execution_count": 6,
   "id": "597cc9ac",
   "metadata": {},
   "outputs": [
    {
     "name": "stdout",
     "output_type": "stream",
     "text": [
      "Jovians: \t 0.099 +/-  0.124 (0.8 sigma)\n",
      "sub-Saturns: \t 0.271 +/-  0.097 (2.8 sigma)\n",
      "sub-Neptunes: \t 0.032 +/-  0.034 (0.9 sigma)\n",
      "super-Earths: \t 0.039 +/-  0.029 (1.4 sigma)\n",
      "sub-Earths: \t -0.032 +/-  0.057 (-0.6 sigma)\n"
     ]
    }
   ],
   "source": [
    "for i, pgroup in enumerate(planet_groups):\n",
    "    slope = np.percentile(feh_traces[i].posterior.m, [16,50,84], axis=(0,1))\n",
    "    \n",
    "    mu = slope[1]\n",
    "    sd = 0.5*(slope[2]-slope[0])\n",
    "    \n",
    "    print(\"{0}: \\t {1:.3f} +/-  {2:.3f} ({3:.1f} sigma)\".format(labels[i], mu, sd, mu/sd))"
   ]
  },
  {
   "cell_type": "markdown",
   "id": "6b6ede05",
   "metadata": {},
   "source": [
    "## Period"
   ]
  },
  {
   "cell_type": "code",
   "execution_count": 7,
   "id": "f8b5cc3c",
   "metadata": {},
   "outputs": [],
   "source": [
    "PATH = os.path.join(PROJECT_DIR, 'Results/20241007/alderaan-all-LC-period/')\n",
    "files = list(np.sort(glob.glob(os.path.join(PATH, '*.fits'))))\n",
    "\n",
    "samples, headers, bin_edges = load_posteriors(files)\n",
    "rp, ecc, mult, nobj = extract_posteriors(samples, headers)\n",
    "\n",
    "\n",
    "per = np.zeros_like(rp)\n",
    "for i, s in enumerate(samples):\n",
    "    head = headers[i]\n",
    "    per[i] = (head['PER_0'], head['PER_1'])"
   ]
  },
  {
   "cell_type": "code",
   "execution_count": 8,
   "id": "253f2dda",
   "metadata": {},
   "outputs": [],
   "source": [
    "colors = ['C3', 'C1', 'C0', 'C2', 'C4']\n",
    "labels = ['Jovians', 'sub-Saturns', 'sub-Neptunes', 'super-Earths', 'sub-Earths']\n",
    "\n",
    "Ter = rp[:,0] == 0.5\n",
    "SE  = rp[:,0] == 1.0\n",
    "SN  = rp[:,0] == 1.84\n",
    "SS  = rp[:,0] == 4.0\n",
    "Jov = rp[:,0] == 8.0\n",
    "\n",
    "planet_groups = [Jov, SS, SN, SE, Ter]"
   ]
  },
  {
   "cell_type": "code",
   "execution_count": 9,
   "id": "9c1220be",
   "metadata": {},
   "outputs": [
    {
     "name": "stderr",
     "output_type": "stream",
     "text": [
      "Multiprocess sampling (2 chains in 4 jobs)\n",
      "NUTS: [b, m]\n"
     ]
    },
    {
     "data": {
      "text/html": [
       "\n",
       "<style>\n",
       "    /* Turns off some styling */\n",
       "    progress {\n",
       "        /* gets rid of default border in Firefox and Opera. */\n",
       "        border: none;\n",
       "        /* Needs to be in here for Safari polyfill so background images work as expected. */\n",
       "        background-size: auto;\n",
       "    }\n",
       "    progress:not([value]), progress:not([value])::-webkit-progress-bar {\n",
       "        background: repeating-linear-gradient(45deg, #7e7e7e, #7e7e7e 10px, #5c5c5c 10px, #5c5c5c 20px);\n",
       "    }\n",
       "    .progress-bar-interrupted, .progress-bar-interrupted::-webkit-progress-bar {\n",
       "        background: #F44336;\n",
       "    }\n",
       "</style>\n"
      ],
      "text/plain": [
       "<IPython.core.display.HTML object>"
      ]
     },
     "metadata": {},
     "output_type": "display_data"
    },
    {
     "data": {
      "text/html": [
       "\n",
       "    <div>\n",
       "      <progress value='6000' class='' max='6000' style='width:300px; height:20px; vertical-align: middle;'></progress>\n",
       "      100.00% [6000/6000 00:01&lt;00:00 Sampling 2 chains, 0 divergences]\n",
       "    </div>\n",
       "    "
      ],
      "text/plain": [
       "<IPython.core.display.HTML object>"
      ]
     },
     "metadata": {},
     "output_type": "display_data"
    },
    {
     "name": "stderr",
     "output_type": "stream",
     "text": [
      "/opt/homebrew/anaconda3/envs/kepler-ecc-rp/lib/python3.9/site-packages/scipy/stats/_continuous_distns.py:624: RuntimeWarning: overflow encountered in _beta_ppf\n",
      "  return _boost._beta_ppf(q, a, b)\n",
      "/opt/homebrew/anaconda3/envs/kepler-ecc-rp/lib/python3.9/site-packages/scipy/stats/_continuous_distns.py:624: RuntimeWarning: overflow encountered in _beta_ppf\n",
      "  return _boost._beta_ppf(q, a, b)\n",
      "Sampling 2 chains for 2_000 tune and 1_000 draw iterations (4_000 + 2_000 draws total) took 1 seconds.\n",
      "The number of effective samples is smaller than 25% for some parameters.\n",
      "Multiprocess sampling (2 chains in 4 jobs)\n",
      "NUTS: [b, m]\n"
     ]
    },
    {
     "data": {
      "text/html": [
       "\n",
       "<style>\n",
       "    /* Turns off some styling */\n",
       "    progress {\n",
       "        /* gets rid of default border in Firefox and Opera. */\n",
       "        border: none;\n",
       "        /* Needs to be in here for Safari polyfill so background images work as expected. */\n",
       "        background-size: auto;\n",
       "    }\n",
       "    progress:not([value]), progress:not([value])::-webkit-progress-bar {\n",
       "        background: repeating-linear-gradient(45deg, #7e7e7e, #7e7e7e 10px, #5c5c5c 10px, #5c5c5c 20px);\n",
       "    }\n",
       "    .progress-bar-interrupted, .progress-bar-interrupted::-webkit-progress-bar {\n",
       "        background: #F44336;\n",
       "    }\n",
       "</style>\n"
      ],
      "text/plain": [
       "<IPython.core.display.HTML object>"
      ]
     },
     "metadata": {},
     "output_type": "display_data"
    },
    {
     "data": {
      "text/html": [
       "\n",
       "    <div>\n",
       "      <progress value='6000' class='' max='6000' style='width:300px; height:20px; vertical-align: middle;'></progress>\n",
       "      100.00% [6000/6000 00:01&lt;00:00 Sampling 2 chains, 0 divergences]\n",
       "    </div>\n",
       "    "
      ],
      "text/plain": [
       "<IPython.core.display.HTML object>"
      ]
     },
     "metadata": {},
     "output_type": "display_data"
    },
    {
     "name": "stderr",
     "output_type": "stream",
     "text": [
      "/opt/homebrew/anaconda3/envs/kepler-ecc-rp/lib/python3.9/site-packages/scipy/stats/_continuous_distns.py:624: RuntimeWarning: overflow encountered in _beta_ppf\n",
      "  return _boost._beta_ppf(q, a, b)\n",
      "/opt/homebrew/anaconda3/envs/kepler-ecc-rp/lib/python3.9/site-packages/scipy/stats/_continuous_distns.py:624: RuntimeWarning: overflow encountered in _beta_ppf\n",
      "  return _boost._beta_ppf(q, a, b)\n",
      "Sampling 2 chains for 2_000 tune and 1_000 draw iterations (4_000 + 2_000 draws total) took 1 seconds.\n",
      "The number of effective samples is smaller than 25% for some parameters.\n",
      "Multiprocess sampling (2 chains in 4 jobs)\n",
      "NUTS: [b, m]\n"
     ]
    },
    {
     "data": {
      "text/html": [
       "\n",
       "<style>\n",
       "    /* Turns off some styling */\n",
       "    progress {\n",
       "        /* gets rid of default border in Firefox and Opera. */\n",
       "        border: none;\n",
       "        /* Needs to be in here for Safari polyfill so background images work as expected. */\n",
       "        background-size: auto;\n",
       "    }\n",
       "    progress:not([value]), progress:not([value])::-webkit-progress-bar {\n",
       "        background: repeating-linear-gradient(45deg, #7e7e7e, #7e7e7e 10px, #5c5c5c 10px, #5c5c5c 20px);\n",
       "    }\n",
       "    .progress-bar-interrupted, .progress-bar-interrupted::-webkit-progress-bar {\n",
       "        background: #F44336;\n",
       "    }\n",
       "</style>\n"
      ],
      "text/plain": [
       "<IPython.core.display.HTML object>"
      ]
     },
     "metadata": {},
     "output_type": "display_data"
    },
    {
     "data": {
      "text/html": [
       "\n",
       "    <div>\n",
       "      <progress value='6000' class='' max='6000' style='width:300px; height:20px; vertical-align: middle;'></progress>\n",
       "      100.00% [6000/6000 00:01&lt;00:00 Sampling 2 chains, 0 divergences]\n",
       "    </div>\n",
       "    "
      ],
      "text/plain": [
       "<IPython.core.display.HTML object>"
      ]
     },
     "metadata": {},
     "output_type": "display_data"
    },
    {
     "name": "stderr",
     "output_type": "stream",
     "text": [
      "/opt/homebrew/anaconda3/envs/kepler-ecc-rp/lib/python3.9/site-packages/scipy/stats/_continuous_distns.py:624: RuntimeWarning: overflow encountered in _beta_ppf\n",
      "  return _boost._beta_ppf(q, a, b)\n",
      "/opt/homebrew/anaconda3/envs/kepler-ecc-rp/lib/python3.9/site-packages/scipy/stats/_continuous_distns.py:624: RuntimeWarning: overflow encountered in _beta_ppf\n",
      "  return _boost._beta_ppf(q, a, b)\n",
      "Sampling 2 chains for 2_000 tune and 1_000 draw iterations (4_000 + 2_000 draws total) took 1 seconds.\n",
      "The number of effective samples is smaller than 25% for some parameters.\n",
      "Multiprocess sampling (2 chains in 4 jobs)\n",
      "NUTS: [b, m]\n"
     ]
    },
    {
     "data": {
      "text/html": [
       "\n",
       "<style>\n",
       "    /* Turns off some styling */\n",
       "    progress {\n",
       "        /* gets rid of default border in Firefox and Opera. */\n",
       "        border: none;\n",
       "        /* Needs to be in here for Safari polyfill so background images work as expected. */\n",
       "        background-size: auto;\n",
       "    }\n",
       "    progress:not([value]), progress:not([value])::-webkit-progress-bar {\n",
       "        background: repeating-linear-gradient(45deg, #7e7e7e, #7e7e7e 10px, #5c5c5c 10px, #5c5c5c 20px);\n",
       "    }\n",
       "    .progress-bar-interrupted, .progress-bar-interrupted::-webkit-progress-bar {\n",
       "        background: #F44336;\n",
       "    }\n",
       "</style>\n"
      ],
      "text/plain": [
       "<IPython.core.display.HTML object>"
      ]
     },
     "metadata": {},
     "output_type": "display_data"
    },
    {
     "data": {
      "text/html": [
       "\n",
       "    <div>\n",
       "      <progress value='6000' class='' max='6000' style='width:300px; height:20px; vertical-align: middle;'></progress>\n",
       "      100.00% [6000/6000 00:01&lt;00:00 Sampling 2 chains, 0 divergences]\n",
       "    </div>\n",
       "    "
      ],
      "text/plain": [
       "<IPython.core.display.HTML object>"
      ]
     },
     "metadata": {},
     "output_type": "display_data"
    },
    {
     "name": "stderr",
     "output_type": "stream",
     "text": [
      "/opt/homebrew/anaconda3/envs/kepler-ecc-rp/lib/python3.9/site-packages/scipy/stats/_continuous_distns.py:624: RuntimeWarning: overflow encountered in _beta_ppf\n",
      "  return _boost._beta_ppf(q, a, b)\n",
      "/opt/homebrew/anaconda3/envs/kepler-ecc-rp/lib/python3.9/site-packages/scipy/stats/_continuous_distns.py:624: RuntimeWarning: overflow encountered in _beta_ppf\n",
      "  return _boost._beta_ppf(q, a, b)\n",
      "Sampling 2 chains for 2_000 tune and 1_000 draw iterations (4_000 + 2_000 draws total) took 1 seconds.\n",
      "The number of effective samples is smaller than 25% for some parameters.\n",
      "Multiprocess sampling (2 chains in 4 jobs)\n",
      "NUTS: [b, m]\n"
     ]
    },
    {
     "data": {
      "text/html": [
       "\n",
       "<style>\n",
       "    /* Turns off some styling */\n",
       "    progress {\n",
       "        /* gets rid of default border in Firefox and Opera. */\n",
       "        border: none;\n",
       "        /* Needs to be in here for Safari polyfill so background images work as expected. */\n",
       "        background-size: auto;\n",
       "    }\n",
       "    progress:not([value]), progress:not([value])::-webkit-progress-bar {\n",
       "        background: repeating-linear-gradient(45deg, #7e7e7e, #7e7e7e 10px, #5c5c5c 10px, #5c5c5c 20px);\n",
       "    }\n",
       "    .progress-bar-interrupted, .progress-bar-interrupted::-webkit-progress-bar {\n",
       "        background: #F44336;\n",
       "    }\n",
       "</style>\n"
      ],
      "text/plain": [
       "<IPython.core.display.HTML object>"
      ]
     },
     "metadata": {},
     "output_type": "display_data"
    },
    {
     "data": {
      "text/html": [
       "\n",
       "    <div>\n",
       "      <progress value='6000' class='' max='6000' style='width:300px; height:20px; vertical-align: middle;'></progress>\n",
       "      100.00% [6000/6000 00:01&lt;00:00 Sampling 2 chains, 0 divergences]\n",
       "    </div>\n",
       "    "
      ],
      "text/plain": [
       "<IPython.core.display.HTML object>"
      ]
     },
     "metadata": {},
     "output_type": "display_data"
    },
    {
     "name": "stderr",
     "output_type": "stream",
     "text": [
      "/opt/homebrew/anaconda3/envs/kepler-ecc-rp/lib/python3.9/site-packages/scipy/stats/_continuous_distns.py:624: RuntimeWarning: overflow encountered in _beta_ppf\n",
      "  return _boost._beta_ppf(q, a, b)\n",
      "/opt/homebrew/anaconda3/envs/kepler-ecc-rp/lib/python3.9/site-packages/scipy/stats/_continuous_distns.py:624: RuntimeWarning: overflow encountered in _beta_ppf\n",
      "  return _boost._beta_ppf(q, a, b)\n",
      "Sampling 2 chains for 2_000 tune and 1_000 draw iterations (4_000 + 2_000 draws total) took 1 seconds.\n",
      "The number of effective samples is smaller than 25% for some parameters.\n"
     ]
    }
   ],
   "source": [
    "x_pred = np.linspace(np.log10(0.3),np.log10(300),100)\n",
    "per_traces = []\n",
    "\n",
    "for i, pgroup in enumerate(planet_groups):\n",
    "    x = np.mean(np.log10(per[pgroup]), axis=1)\n",
    "    y = np.percentile(ecc[pgroup], [16,50,84], axis=1)\n",
    "    \n",
    "    y_obs = y[1]\n",
    "    y_err = np.abs(y[(0,2),:]-y[1])\n",
    "    \n",
    "    with pm.Model() as model:\n",
    "        m = pm.Normal(\"m\", mu=0, sd=1, testval=0)\n",
    "        b = pm.Uniform(\"b\", lower=0, upper=1, testval=np.mean(y_obs))\n",
    "    \n",
    "        y_mod = pm.Deterministic(\"y_mod\", m*x + b)\n",
    "        y_pred = pm.Deterministic(\"y_pred\", m*x_pred + b)\n",
    "        obs = pm.Normal(\"obs\", mu=y_mod, sd=y_err, observed=y_obs)\n",
    "\n",
    "    with model:\n",
    "        per_traces.append(pmx.sample(tune=2000, draws=1000, chains=2, target_accept=0.95, return_inferencedata=True))"
   ]
  },
  {
   "cell_type": "code",
   "execution_count": 10,
   "id": "005173b7",
   "metadata": {},
   "outputs": [
    {
     "data": {
      "image/png": "[encoded data removed]",
      "text/plain": [
       "<Figure size 640x480 with 1 Axes>"
      ]
     },
     "metadata": {},
     "output_type": "display_data"
    }
   ],
   "source": [
    "plt.figure()\n",
    "\n",
    "for i, pgroup in enumerate(planet_groups):\n",
    "    x = np.mean(np.log10(per[pgroup]), axis=1)\n",
    "    y = np.percentile(ecc[pgroup], [16,50,84], axis=1)\n",
    "    \n",
    "    yobs = y[1]\n",
    "    yerr = np.abs(y[(0,2),:]-y[1])\n",
    "\n",
    "    xfit = x_pred\n",
    "    yfit = np.percentile(per_traces[i].posterior.y_pred, [16,50,84], axis=(0,1))\n",
    "    \n",
    "    plt.errorbar(x, yobs, yerr=yerr, fmt='o', color=colors[i], capsize=5, fillstyle='none')\n",
    "    plt.plot(xfit, yfit[1], color=colors[i], lw=2, alpha=0.6, label=labels[i])\n",
    "    plt.fill_between(xfit, yfit[0], yfit[2], color=colors[i], alpha=0.2)\n",
    "\n",
    "plt.xlim(np.log10(1),np.log10(100))\n",
    "plt.xticks(np.log10([1,3,10,30,100]),[1,3,10,30,100])\n",
    "plt.ylim(-0.02,0.52)\n",
    "plt.xlabel(\"$P$ (days)\", fontsize=20)\n",
    "plt.ylabel(r\"$\\langle e \\rangle$\", fontsize=20)\n",
    "plt.legend(loc='upper left')\n",
    "plt.savefig(os.path.join(PROJECT_DIR, 'Figures/ecc-period.pdf'), bbox_inches='tight')\n",
    "plt.show()"
   ]
  },
  {
   "cell_type": "code",
   "execution_count": 11,
   "id": "4bc54bc8",
   "metadata": {},
   "outputs": [
    {
     "name": "stdout",
     "output_type": "stream",
     "text": [
      "Jovians: \t 0.135 +/-  0.042 (3.2 sigma)\n",
      "sub-Saturns: \t 0.006 +/-  0.044 (0.1 sigma)\n",
      "sub-Neptunes: \t 0.003 +/-  0.012 (0.3 sigma)\n",
      "super-Earths: \t 0.018 +/-  0.013 (1.4 sigma)\n",
      "sub-Earths: \t 0.020 +/-  0.025 (0.8 sigma)\n"
     ]
    }
   ],
   "source": [
    "for i, pgroup in enumerate(planet_groups):\n",
    "    slope = np.percentile(per_traces[i].posterior.m, [16,50,84], axis=(0,1))\n",
    "    \n",
    "    mu = slope[1]\n",
    "    sd = 0.5*(slope[2]-slope[0])\n",
    "    \n",
    "    print(\"{0}: \\t {1:.3f} +/-  {2:.3f} ({3:.1f} sigma)\".format(labels[i], mu, sd, mu/sd))"
   ]
  },
  {
   "cell_type": "code",
   "execution_count": null,
   "id": "c2094b62",
   "metadata": {},
   "outputs": [],
   "source": []
  },
  {
   "cell_type": "code",
   "execution_count": null,
   "id": "8e8a541d",
   "metadata": {},
   "outputs": [],
   "source": []
  }
 ],
 "metadata": {
  "kernelspec": {
   "display_name": "Python 3 (ipykernel)",
   "language": "python",
   "name": "python3"
  },
  "language_info": {
   "codemirror_mode": {
    "name": "ipython",
    "version": 3
   },
   "file_extension": ".py",
   "mimetype": "text/x-python",
   "name": "python",
   "nbconvert_exporter": "python",
   "pygments_lexer": "ipython3",
   "version": "3.9.19"
  }
 },
 "nbformat": 4,
 "nbformat_minor": 5
}
