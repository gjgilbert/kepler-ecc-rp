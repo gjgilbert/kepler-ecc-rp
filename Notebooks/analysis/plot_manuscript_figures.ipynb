{
 "cells": [
  {
   "cell_type": "code",
   "execution_count": null,
   "id": "649689cd-1bc1-47fd-9f92-d99980a633e1",
   "metadata": {},
   "outputs": [],
   "source": [
    "import os\n",
    "import sys\n",
    "import glob\n",
    "import warnings\n",
    "from copy import deepcopy\n",
    "\n",
    "PROJECT_DIR = '/Users/research/projects/kepler-ecc-rp/'\n",
    "sys.path.append(PROJECT_DIR)"
   ]
  },
  {
   "cell_type": "code",
   "execution_count": null,
   "id": "a97f4b16-96d5-4316-91af-6e77af2c0af0",
   "metadata": {},
   "outputs": [],
   "source": [
    "import astropy.constants as apc\n",
    "import matplotlib.pyplot as plt\n",
    "import numpy as np\n",
    "import pandas as pd\n",
    "import seaborn as sns\n",
    "from scipy.interpolate import CubicSpline\n",
    "from scipy import stats\n",
    "from scipy.stats import gaussian_kde, ks_2samp\n",
    "\n",
    "from utils.astro import calc_T14_circ, jacobian, detection_prior, duration_ratio\n",
    "from utils.eccsamp import imp_sample_rhostar\n",
    "from utils.io import load_dr25_data_from_hdf5\n",
    "from utils.stats import weighted_percentile, draw_random_samples\n",
    "\n",
    "pi = np.pi\n",
    "\n",
    "RSAU = (apc.R_sun/apc.au).value                                 # solar radius [AU]\n",
    "RSRE = (apc.R_sun/apc.R_earth).value                            # R_sun/R_earth\n",
    "RHOSUN_GCM3 = (3*apc.M_sun/(4*pi*apc.R_sun**3)).value/1000      # solar density [g/cm^3]"
   ]
  },
  {
   "cell_type": "markdown",
   "id": "e1fd299f-c627-4245-a10a-d4e77333ce8d",
   "metadata": {},
   "source": [
    "## Load DR25 Catalog"
   ]
  },
  {
   "cell_type": "code",
   "execution_count": null,
   "id": "cf1f48a0",
   "metadata": {},
   "outputs": [],
   "source": [
    "MULTIPLICITY = (1,99)\n",
    "PER_LIM      = (1,100)\n",
    "RAD_TYPE     = 'rp'\n",
    "RAD_LIM      = (0.5,16.0)\n",
    "MSTAR_LIM    = (0.,10.)\n",
    "RSTAR_LIM    = (0.7,1.4)\n",
    "FEH_LIM      = (-0.5,0.5)\n",
    "TEFF_LIM     = (4700,6500)\n",
    "AGE_LIM      = (0,14)\n",
    "E_DETPRIOR   = True\n",
    "B_DETPRIOR   = False"
   ]
  },
  {
   "cell_type": "code",
   "execution_count": null,
   "id": "0f435f9a-eb19-48ea-b03c-990c1a2bcfdc",
   "metadata": {},
   "outputs": [],
   "source": [
    "DR25_CATALOG = os.path.join(PROJECT_DIR, 'Catalogs/kepler_dr25_gaia_dr2_crossmatch.csv')\n",
    "catalog = pd.read_csv(DR25_CATALOG, index_col=0)\n",
    "\n",
    "# hard-code period and radius limits\n",
    "use  = (catalog.period > 1) * (catalog.period < 300)\n",
    "use *= (catalog.rp > 0) * (catalog.rp < 16)\n",
    "\n",
    "# remove likely false positives\n",
    "use *= (catalog.fpp < 0.1) + (catalog.disposition == 'CONFIRMED')\n",
    "\n",
    "# clean up stellar sample\n",
    "use *= catalog.logg > 4.0                                 # surface gravity as proxy for main sequence\n",
    "use *= (catalog.rcf - 1 < 0.05) + np.isnan(catalog.rcf)   # radius correction factor (Furlan+ 2017)\n",
    "use *= catalog.ruwe < 1.4                                 # Gaia RUWE\n",
    "\n",
    "# slice subpopulation\n",
    "use *= ((catalog.period >= PER_LIM[0]) &\n",
    "        (catalog.period <= PER_LIM[1]) &\n",
    "        (catalog.mstar >= MSTAR_LIM[0]) &\n",
    "        (catalog.mstar <= MSTAR_LIM[1]) &\n",
    "        (catalog.rstar >= RSTAR_LIM[0]) &\n",
    "        (catalog.rstar <= RSTAR_LIM[1]) &\n",
    "        (catalog.feh >= FEH_LIM[0]) &\n",
    "        (catalog.feh <= FEH_LIM[1]) &\n",
    "        (catalog.teff >= TEFF_LIM[0]) &\n",
    "        (catalog.teff <= TEFF_LIM[1]) &\n",
    "        (catalog.age >= AGE_LIM[0]) &\n",
    "        (catalog.age <= AGE_LIM[1])\n",
    "       )\n",
    "\n",
    "# update targets and catalog\n",
    "catalog = catalog.loc[use].reset_index(drop=True)\n",
    "targets = np.array(catalog.planet_name)"
   ]
  },
  {
   "cell_type": "markdown",
   "id": "f22a5d10-6c24-49a0-9204-80b958f1f323",
   "metadata": {},
   "source": [
    "## Trend comparison"
   ]
  },
  {
   "cell_type": "code",
   "execution_count": null,
   "id": "d4d46cbe-2666-42ab-a4d4-601bb300a927",
   "metadata": {},
   "outputs": [],
   "source": [
    "occurrence = pd.read_csv(os.path.join(PROJECT_DIR, \"Results/fulton-petigura-2018-occurrence.csv\"))\n",
    "ecc_data  = pd.read_csv(os.path.join(PROJECT_DIR, \"Results/ecc-rp-singles-empirical.csv\"))\n",
    "ecc_model = pd.read_csv(os.path.join(PROJECT_DIR, \"Results/ecc-rp-singles-smooth-model-empirical.csv\"))"
   ]
  },
  {
   "cell_type": "code",
   "execution_count": null,
   "id": "2835e698-161e-4c88-b0bd-c56dbc344496",
   "metadata": {},
   "outputs": [],
   "source": [
    "Rp = np.array([0.5, 1, 2, 4, 8, 16])\n",
    "\n",
    "sns.set_context('paper', font_scale=1.1)\n",
    "\n",
    "fig, ax = plt.subplots(3,1, figsize=(8,8))\n",
    "\n",
    "# occurrence rates\n",
    "n = 7\n",
    "\n",
    "lnR = np.log(occurrence.bin_center.values)\n",
    "occ = np.array(occurrence.occ.values, dtype='float')\n",
    "occ_err = np.array(occurrence.occ_err.values, dtype='float')\n",
    "occ_err[occ_err==100] = 0\n",
    "\n",
    "ax[0].step(lnR[n:], occ[n:], where='mid', color='k', lw=2)\n",
    "ax[0].step(lnR[:n+1], occ[:n+1], where='mid', color='lightgrey', ls='--', lw=2)\n",
    "ax[0].errorbar(lnR[n:], occ[n:], yerr=occ_err[n:], fmt='none', capsize=5, color='k')\n",
    "ax[0].axvline(np.log(3.5), color='C3', ls=':', lw=2, zorder=0)\n",
    "ax[0].set_xlim(np.log(0.5), np.log(16))\n",
    "ax[0].set_xticks(np.log(Rp), Rp)\n",
    "ax[0].set_yticks([0, 0.04, 0.08, 0.12], [0,4,8,16])\n",
    "ax[0].set_ylabel(\"Planets per\\n100 stars\",fontsize=14)\n",
    "\n",
    "\n",
    "# metallicity\n",
    "ax[1].scatter(np.log(catalog.rp), catalog.feh, s=10, facecolors='none', edgecolors='k', lw=0.5)\n",
    "ax[1].axvline(np.log(3.5), color='C3', ls=':', lw=2, zorder=0)\n",
    "ax[1].set_xlim(np.log(0.5), np.log(16))\n",
    "ax[1].set_xticks(np.log(Rp), Rp)\n",
    "ax[1].set_ylim(-0.63, 0.63)\n",
    "ax[1].set_ylabel(\"Metallicity\", fontsize=14)\n",
    "\n",
    "\n",
    "# eccentricity\n",
    "lnR = np.log(ecc_data.rp)\n",
    "ecc = [ecc_data.ecc_16, ecc_data.ecc_50, ecc_data.ecc_84]\n",
    "\n",
    "ax[2].errorbar(lnR, ecc[1], yerr=(ecc[1]-ecc[0], ecc[2]-ecc[1]), fmt='ko')\n",
    "ax[2].plot(ecc_model.xpred, ecc_model.ypred_50, color='grey', lw=2)\n",
    "ax[2].fill_between(ecc_model.xpred, ecc_model.ypred_16, ecc_model.ypred_84, color='grey', alpha=0.2)\n",
    "ax[2].axvline(np.log(3.5), color='C3', ls=':', lw=2, zorder=0)\n",
    "ax[2].set_xlim(np.log(0.5), np.log(16))\n",
    "ax[2].set_xticks(np.log(Rp), Rp)\n",
    "ax[2].set_ylim(0,0.3)\n",
    "ax[2].set_ylabel(\"Eccentricity\", fontsize=14)\n",
    "ax[2].set_xlabel(\"Planet Radius (Earth-radii)\", fontsize=14)\n",
    "\n",
    "\n",
    "plt.tight_layout()\n",
    "plt.savefig(os.path.join(PROJECT_DIR, \"Figures/3RE-transition.pdf\"), bbox_inches='tight')\n",
    "plt.show()"
   ]
  },
  {
   "cell_type": "markdown",
   "id": "a7e85ea6-2cd7-443b-944e-b77f3fbe7bf6",
   "metadata": {},
   "source": [
    "## Period-Radius diagram"
   ]
  },
  {
   "cell_type": "code",
   "execution_count": null,
   "id": "a3789efd-8b11-4510-aea9-64d193cedea2",
   "metadata": {},
   "outputs": [],
   "source": [
    "import seaborn as sns\n",
    "\n",
    "sns.set_context('paper', font_scale=1.5)\n",
    "\n",
    "X = pd.DataFrame()\n",
    "X['lnP'] =np.log10(catalog.period.values)\n",
    "X['lnR'] = np.log10(catalog.rp.values)\n",
    "\n",
    "plt.figure(figsize=(6,5))\n",
    "\n",
    "sns.kdeplot(X, x='lnP', y='lnR', cmap=sns.light_palette(\"#555\",as_cmap=True), fill=True, levels=6)\n",
    "plt.scatter(X['lnP'], X['lnR'], s=12, facecolors='none', edgecolors='k', lw=0.1, alpha=0.8)\n",
    "\n",
    "x = np.linspace(np.log10(0.5), np.log10(330), 100)\n",
    "y = np.log10(1.84*(10**x/10)**-0.11)\n",
    "\n",
    "plt.plot(x, np.log10(16)*np.ones(100), color='k', lw=1, ls=':')\n",
    "plt.plot(x, np.log10(8/1.01)*np.ones(100), color='k', lw=1, ls=':')\n",
    "plt.plot(x, np.log10(4/1.01)*np.ones(100), color='k', lw=1, ls=':')\n",
    "plt.plot(x, y-np.log10(1.01), color='k', lw=2, ls='--')\n",
    "plt.plot(x, np.log10(1*1.01)*np.ones(100), color='k', lw=1, ls=':')\n",
    "plt.plot(x, np.log10(0.5)*np.ones(100), color='k', lw=1, ls=':')\n",
    "\n",
    "plt.xlim(np.log10(1/1.1), np.log10(100*1.1))\n",
    "plt.xticks(np.log10([1,3,10,30,100]), [1,3,10,30,100])\n",
    "plt.ylim(np.log10(0.5/1.1), np.log10(16*1.1))\n",
    "plt.yticks(np.log10([0.5,1,2,3,4,8,16]), [0.5,1,2,3,4,8,16])\n",
    "plt.xlabel(\"Period (days)\")\n",
    "plt.ylabel(\"Radius ($R_{\\oplus}$)\")\n",
    "\n",
    "plt.savefig(os.path.join(PROJECT_DIR, 'Figures/population.pdf'), bbox_inches='tight')\n",
    "plt.show()"
   ]
  },
  {
   "cell_type": "code",
   "execution_count": null,
   "id": "3e27467e-7afc-40ba-9509-553792cb9164",
   "metadata": {},
   "outputs": [],
   "source": []
  },
  {
   "cell_type": "code",
   "execution_count": null,
   "id": "d84ad0ee",
   "metadata": {},
   "outputs": [],
   "source": [
    "sns.set_palette?"
   ]
  },
  {
   "cell_type": "code",
   "execution_count": null,
   "id": "a46cfadc",
   "metadata": {},
   "outputs": [],
   "source": []
  }
 ],
 "metadata": {
  "kernelspec": {
   "display_name": "Python 3 (ipykernel)",
   "language": "python",
   "name": "python3"
  },
  "language_info": {
   "codemirror_mode": {
    "name": "ipython",
    "version": 3
   },
   "file_extension": ".py",
   "mimetype": "text/x-python",
   "name": "python",
   "nbconvert_exporter": "python",
   "pygments_lexer": "ipython3",
   "version": "3.9.19"
  }
 },
 "nbformat": 4,
 "nbformat_minor": 5
}
