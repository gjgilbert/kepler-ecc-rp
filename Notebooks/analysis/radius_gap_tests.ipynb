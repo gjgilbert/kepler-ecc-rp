{
 "cells": [
  {
   "cell_type": "code",
   "execution_count": null,
   "id": "abb488d3-fb0a-4968-9190-3141ed1bf1fe",
   "metadata": {},
   "outputs": [],
   "source": [
    "import numpy as np\n",
    "import pandas as pd\n",
    "import matplotlib.pyplot as plt\n",
    "import corner\n",
    "import os\n",
    "import sys\n",
    "import glob\n",
    "from   copy import deepcopy\n",
    "import astropy.constants as apc\n",
    "from   astropy.io import fits\n",
    "from   scipy import stats\n",
    "import warnings\n",
    "import seaborn as sns\n",
    "\n",
    "PROJECT_DIR = '/Users/research/projects/kepler-ecc-rp/'\n",
    "\n",
    "sys.path.append(PROJECT_DIR)\n",
    "from utils.stats import weighted_percentile\n",
    "from utils.io import load_posteriors, extract_posteriors\n",
    "\n",
    "sys.path.append('/Users/research/projects/alderaan/')\n",
    "sys.path.append('/data/user/gjgilbert/projects/alderaan/')\n",
    "from alderaan.Results import Results\n",
    "\n",
    "pi = np.pi\n",
    "\n",
    "RSAU = (apc.R_sun/apc.au).value                                 # solar radius [AU]\n",
    "RSRE = (apc.R_sun/apc.R_earth).value                            # R_sun/R_earth\n",
    "RHOSUN_GCM3 = (3*apc.M_sun/(4*pi*apc.R_sun**3)).value/1000      # solar density [g/cm^3]"
   ]
  },
  {
   "cell_type": "markdown",
   "id": "f91c5527-069b-4c46-a9aa-7f7eeea5a4db",
   "metadata": {},
   "source": [
    "## Load data"
   ]
  },
  {
   "cell_type": "markdown",
   "id": "e0ea960c",
   "metadata": {},
   "source": [
    "#### Input catalog"
   ]
  },
  {
   "cell_type": "code",
   "execution_count": null,
   "id": "bd9e733c",
   "metadata": {},
   "outputs": [],
   "source": [
    "DATA_SOURCE  = 'ALDERAAN-INJECTION'\n",
    "DATA_DIR     = '/Users/research/projects/alderaan/Results/2024-09-25-SIMULATED-singles-ecc-physical/'\n",
    "\n",
    "CATALOG = os.path.join(DATA_DIR, '{0}.csv'.format(DATA_DIR[DATA_DIR.find('Results')+8:-1]))\n",
    "catalog = pd.read_csv(CATALOG, index_col=0)\n",
    "\n",
    "\n",
    "# make injection catalog look like real catalog\n",
    "if DATA_SOURCE == 'ALDERAAN-INJECTION':\n",
    "    n = len(catalog.koi_id)\n",
    "    \n",
    "    catalog.columns = map(str.lower, catalog.columns)\n",
    "    \n",
    "    # track ground-truth injected values\n",
    "    catalog['true_rp'] = np.copy(catalog.ror * catalog.rstar * RSRE)\n",
    "    catalog['true_rstar'] = np.copy(catalog.rstar)\n",
    "    catalog['true_rhostar'] = np.copy(10**catalog.logrho)\n",
    "    \n",
    "    # assign planet name\n",
    "    planet_name = np.array(catalog.koi_id.values, dtype='U9')\n",
    "    for i, p in enumerate(planet_name):\n",
    "        planet_name[i] = planet_name[i] + '.01'\n",
    "    catalog['planet_name'] = planet_name\n",
    "    \n",
    "    \n",
    "use = (catalog.true_rp > 1.0)*(catalog.true_rp < 4.0)\n",
    "catalog = catalog.loc[use].reset_index(drop=True)\n",
    "targets = np.array(catalog.planet_name)"
   ]
  },
  {
   "cell_type": "markdown",
   "id": "a4a9dd3d",
   "metadata": {},
   "source": [
    "#### Transit fit posterior chains"
   ]
  },
  {
   "cell_type": "code",
   "execution_count": null,
   "id": "97219a18",
   "metadata": {},
   "outputs": [],
   "source": [
    "def infer_planet_koi_from_period(star_koi, P_samp, catalog):\n",
    "    P_all = catalog.loc[catalog.koi_id==star_koi, 'period'].values\n",
    "    P_cat = P_all[np.argmin(np.abs(P_all - P_samp))]\n",
    "        \n",
    "    return catalog.loc[catalog.period==P_cat, 'planet_name'].values[0]"
   ]
  },
  {
   "cell_type": "code",
   "execution_count": null,
   "id": "cfd92c20",
   "metadata": {},
   "outputs": [],
   "source": [
    "def infer_index_from_planet_koi(planet_koi, results, catalog):\n",
    "    periods = np.zeros(results.npl)\n",
    "\n",
    "    for n in range(results.npl):\n",
    "        periods[n] = np.median(results.samples(n).PERIOD)\n",
    "    \n",
    "    return np.argmin(np.abs(periods - catalog.loc[catalog.planet_name==planet_koi, 'period'].values))    "
   ]
  },
  {
   "cell_type": "code",
   "execution_count": null,
   "id": "204ccbc8",
   "metadata": {},
   "outputs": [],
   "source": [
    "chains  = {}\n",
    "failure = []\n",
    "\n",
    "if DATA_SOURCE == 'ALDERAAN-INJECTION':\n",
    "    files = np.sort(glob.glob(os.path.join(DATA_DIR, '*/*results.fits')))\n",
    "    \n",
    "    for i, t in enumerate(targets):\n",
    "        try:\n",
    "            \n",
    "            results = Results('S'+t[1:-3], DATA_DIR)\n",
    "            n = infer_index_from_planet_koi(t, results, catalog)\n",
    "\n",
    "            chains[t] = results.samples(n).sample(n=8000, replace=True, weights=results.posteriors.weights(), ignore_index=True)\n",
    "            chains[t] = chains[t].drop(columns='LN_WT')\n",
    "            \n",
    "        except FileNotFoundError:\n",
    "            warnings.warn(\"{0} failed to load\".format(t))\n",
    "            failure.append(t)            \n",
    "            \n",
    "else:\n",
    "    raise ValueError(\"Data source must be either 'DR25'or 'ALDERAAN' or 'ALDERAAN-INJECTION'\")\n",
    "    \n",
    "\n",
    "# update targets and catalog\n",
    "targets = list(np.array(targets)[~np.isin(targets,failure)])\n",
    "catalog = catalog.loc[np.isin(catalog.planet_name, targets)].reset_index(drop=True)\n",
    "\n",
    "print(\"{0} targets loaded\".format(len(targets)))"
   ]
  },
  {
   "cell_type": "markdown",
   "id": "7d92f687",
   "metadata": {},
   "source": [
    "#### H-Bayes posteriors"
   ]
  },
  {
   "cell_type": "code",
   "execution_count": null,
   "id": "76c027d0-b8fc-4a07-a401-5f7c843729e0",
   "metadata": {},
   "outputs": [],
   "source": [
    "PATHS = [os.path.join(PROJECT_DIR, 'Results/20241004/injection-test-rp-slices-fwhm10-empirical-gap00/'),\n",
    "         os.path.join(PROJECT_DIR, 'Results/20241004/injection-test-rp-slices-fwhm10-empirical-gap10/'),\n",
    "         os.path.join(PROJECT_DIR, 'Results/20241004/injection-test-rp-slices-fwhm10-empirical-gap20/'),\n",
    "         os.path.join(PROJECT_DIR, 'Results/20241004/injection-test-rp-slices-fwhm10-empirical-gap40/')]"
   ]
  },
  {
   "cell_type": "markdown",
   "id": "d3b59c5f",
   "metadata": {},
   "source": [
    "## Make figures"
   ]
  },
  {
   "cell_type": "code",
   "execution_count": null,
   "id": "b77153ce",
   "metadata": {},
   "outputs": [],
   "source": [
    "period  = np.zeros(len(targets))\n",
    "rp_true = np.zeros(len(targets))\n",
    "rp_obs  = np.zeros(len(targets))\n",
    "\n",
    "for i, t in enumerate(targets):\n",
    "    period[i]  = catalog.loc[catalog.planet_name==t, 'period']\n",
    "    rp_true[i] = catalog.loc[catalog.planet_name==t, 'ror']*catalog.loc[catalog.planet_name==t, 'rstar']*RSRE\n",
    "    rp_obs[i]  = np.median(chains[t].ROR)*catalog.loc[catalog.planet_name==t, 'rstar']*RSRE\n",
    "    \n",
    "plt.figure(figsize=(4,3))\n",
    "plt.plot(rp_true, rp_obs, 'k.')\n",
    "plt.xlabel(\"Injected $R_p$\", fontsize=16)\n",
    "plt.ylabel(\"Recovered $R_p$\", fontsize=16)\n",
    "plt.xlim(0.8,4.2)\n",
    "plt.ylim(0.8,4.2)\n",
    "plt.show()"
   ]
  },
  {
   "cell_type": "code",
   "execution_count": null,
   "id": "0156dbe0",
   "metadata": {},
   "outputs": [],
   "source": [
    "sns.set_context(\"paper\", font_scale=1.5)\n",
    "\n",
    "\n",
    "files = list(np.sort(glob.glob(os.path.join(PATHS[0], '*.fits'))))\n",
    "\n",
    "samples, headers, bin_edges = load_posteriors(files)\n",
    "rp0, ecc0, mult0, nobj0 = extract_posteriors(samples, headers)\n",
    "\n",
    "\n",
    "for path in PATHS:\n",
    "    # load H-Bayes data\n",
    "    files = list(np.sort(glob.glob(os.path.join(path, '*.fits'))))\n",
    "\n",
    "    samples, headers, bin_edges = load_posteriors(files)\n",
    "    rp, ecc, mult, nobj = extract_posteriors(samples, headers)\n",
    "\n",
    "    \n",
    "    gap = float(path[-3:-1])/100\n",
    "\n",
    "    if gap > 0:\n",
    "        ecc = np.percentile(ecc-ecc0, [16,50,84], axis=1).T\n",
    "    else:\n",
    "        ecc = np.percentile(ecc, [16,50,84], axis=1).T\n",
    "        \n",
    "    x = np.mean(rp[mult==1], axis=1)\n",
    "    y = ecc[mult==1][:,1]\n",
    "    yerr = np.abs(ecc[mult==1][:,(0,2)].T - ecc[mult==1][:,1])\n",
    "    \n",
    "    # extract catalog data\n",
    "    use = ((rp_true < 1.84/(1+gap/2))+(rp_true > 1.84*(1+gap/2))) * (rp_obs > 1.0) * (rp_obs < 4.0)\n",
    "    per_ = period[use]\n",
    "    rpt_ = rp_true[use]\n",
    "    rpo_ = rp_obs[use]\n",
    "    \n",
    "    # make plot\n",
    "    fig = plt.figure(figsize=(18,5))\n",
    "    ax  = [None,None]\n",
    "    \n",
    "    ax[0] = plt.subplot2grid(shape=(1,3), loc=(0,0), rowspan=1, colspan=2)\n",
    "    ax[0].errorbar(x, y, yerr=yerr, fmt='ko')\n",
    "    if gap > 0:\n",
    "        ax[0].axvspan(1.84/(1+gap/2), 1.84*(1+gap/2), color='C0', alpha=0.2)\n",
    "        ax[0].plot(np.linspace(1,4,20), np.zeros(20), color='grey', ls='--', zorder=0)\n",
    "        ax[0].set_ylabel(r\"$\\langle e \\rangle - \\langle e \\rangle_{\\rm no\\ gap}$\", fontsize=16)\n",
    "    else:\n",
    "        ax[0].plot(np.linspace(1,4,20), 0.023*np.ones(20), color='grey', ls='--', zorder=0)\n",
    "        ax[0].set_ylabel(r\"$\\langle e \\rangle$\", fontsize=16)\n",
    "        \n",
    "    ax[0].set_xscale('log')\n",
    "    ax[0].set_xticks([1.0, 1.5, 2.0, 2.5, 3.0, 3.5, 4.0], [1.0, 1.5, 2.0, 2.5, 3.0, 3.5, 4.0])\n",
    "    ax[0].set_ylim(-0.1,0.3)\n",
    "    ax[0].set_xlabel(r\"$R_p\\ (R_\\oplus)$\", fontsize=16)\n",
    "    ax[0].minorticks_off()\n",
    "\n",
    "    \n",
    "    ax[1] = plt.subplot2grid(shape=(1,3), loc=(0,2), rowspan=1, colspan=1)\n",
    "    for i, _ in enumerate(per_):\n",
    "        ax[1].plot(per_[i]*np.ones(2), np.linspace(rpt_[i], rpo_[i], 2), color='lightgrey')\n",
    "    ax[1].plot(per_, rpo_, 'k.')\n",
    "    if gap > 0:\n",
    "        ax[1].axhspan(1.84/(1+gap/2), 1.84*(1+gap/2), color='C0', alpha=0.2)\n",
    "    ax[1].set_xscale('log')\n",
    "    ax[1].set_yscale('log')\n",
    "    ax[1].set_xticks([1,3,10,30,100], [1,3,10,30,100])\n",
    "    ax[1].set_yticks([1,2,4], [1,2,4])\n",
    "    ax[1].minorticks_off()\n",
    "    ax[1].set_xlabel(r\"$P$ (days)\", fontsize=16)\n",
    "    ax[1].set_ylabel(r\"$R_p\\ (R_\\oplus)$\", fontsize=16)\n",
    "    \n",
    "    plt.savefig(os.path.join(PROJECT_DIR, 'Figures/injection-test-{0}.pdf'.format(path[-6:-1])), bbox_inches='tight')\n",
    "    plt.show()"
   ]
  },
  {
   "cell_type": "code",
   "execution_count": null,
   "id": "a07b9d3e",
   "metadata": {},
   "outputs": [],
   "source": []
  }
 ],
 "metadata": {
  "kernelspec": {
   "display_name": "Python 3 (ipykernel)",
   "language": "python",
   "name": "python3"
  },
  "language_info": {
   "codemirror_mode": {
    "name": "ipython",
    "version": 3
   },
   "file_extension": ".py",
   "mimetype": "text/x-python",
   "name": "python",
   "nbconvert_exporter": "python",
   "pygments_lexer": "ipython3",
   "version": "3.9.19"
  }
 },
 "nbformat": 4,
 "nbformat_minor": 5
}
